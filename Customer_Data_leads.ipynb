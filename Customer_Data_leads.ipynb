{
 "cells": [
  {
   "cell_type": "markdown",
   "metadata": {
    "id": "4IVL4o1sEW8U"
   },
   "source": [
    "## importing and exploring our dataset"
   ]
  },
  {
   "cell_type": "code",
   "execution_count": 13,
   "metadata": {
    "id": "sLRosxzMVRvC"
   },
   "outputs": [],
   "source": [
    "import numpy as np\n",
    "import pandas as pd\n",
    "import matplotlib.pyplot as plt\n",
    "import seaborn as sns\n",
    "import random\n"
   ]
  },
  {
   "cell_type": "code",
   "execution_count": 14,
   "metadata": {
    "colab": {
     "base_uri": "https://localhost:8080/"
    },
    "id": "q6EDZ8C8ETls",
    "outputId": "c0acf004-9913-4fdb-bb0f-ab479d099885"
   },
   "outputs": [
    {
     "data": {
      "text/plain": [
       "\"\\nfrom google.colab import drive\\ndrive.mount('/content/drive')\\n\""
      ]
     },
     "execution_count": 14,
     "metadata": {},
     "output_type": "execute_result"
    }
   ],
   "source": [
    "'''\n",
    "from google.colab import drive\n",
    "drive.mount('/content/drive')\n",
    "'''"
   ]
  },
  {
   "cell_type": "code",
   "execution_count": 15,
   "metadata": {
    "colab": {
     "base_uri": "https://localhost:8080/"
    },
    "id": "pf3FcCjPaSrc",
    "outputId": "d6f72b89-1efb-450a-922f-5e8682574684"
   },
   "outputs": [
    {
     "name": "stderr",
     "output_type": "stream",
     "text": [
      "C:\\Users\\Lenovobhavya\\AppData\\Local\\Temp\\ipykernel_20144\\1441946267.py:1: DtypeWarning: Columns (0) have mixed types. Specify dtype option on import or set low_memory=False.\n",
      "  df=pd.read_csv(\"C:\\\\Users\\\\Lenovobhavya\\\\Downloads\\\\Data_leads.csv\")\n"
     ]
    }
   ],
   "source": [
    "df=pd.read_csv(\"C:\\\\Users\\\\Lenovobhavya\\\\Downloads\\\\Data_leads.csv\")"
   ]
  },
  {
   "cell_type": "code",
   "execution_count": 16,
   "metadata": {
    "colab": {
     "base_uri": "https://localhost:8080/",
     "height": 389
    },
    "id": "AuSQeZbGdwRt",
    "outputId": "0850e393-5447-413e-bd72-58c949418aa1"
   },
   "outputs": [
    {
     "data": {
      "text/html": [
       "<div>\n",
       "<style scoped>\n",
       "    .dataframe tbody tr th:only-of-type {\n",
       "        vertical-align: middle;\n",
       "    }\n",
       "\n",
       "    .dataframe tbody tr th {\n",
       "        vertical-align: top;\n",
       "    }\n",
       "\n",
       "    .dataframe thead th {\n",
       "        text-align: right;\n",
       "    }\n",
       "</style>\n",
       "<table border=\"1\" class=\"dataframe\">\n",
       "  <thead>\n",
       "    <tr style=\"text-align: right;\">\n",
       "      <th></th>\n",
       "      <th>Lead Id</th>\n",
       "      <th>Product Category</th>\n",
       "      <th>Product</th>\n",
       "      <th>Sub Product</th>\n",
       "      <th>Amount</th>\n",
       "      <th>Status Code</th>\n",
       "      <th>Source</th>\n",
       "      <th>Assigned To</th>\n",
       "      <th>Branch</th>\n",
       "      <th>Last</th>\n",
       "      <th>Lead NBG</th>\n",
       "      <th>Lead Zone</th>\n",
       "      <th>STP</th>\n",
       "      <th>Created By</th>\n",
       "      <th>Dropout</th>\n",
       "    </tr>\n",
       "  </thead>\n",
       "  <tbody>\n",
       "    <tr>\n",
       "      <th>0</th>\n",
       "      <td>554686</td>\n",
       "      <td>MSME</td>\n",
       "      <td>PMMY Kishore loan (Above 50000 to up to 5.00 l...</td>\n",
       "      <td>Kishore Loan (Rs. 50000 to upto 5 Lacs)</td>\n",
       "      <td>₹ 101.00</td>\n",
       "      <td>New Lead</td>\n",
       "      <td>EPL Branch</td>\n",
       "      <td>MADHURAWADA</td>\n",
       "      <td>MADHURAWADA</td>\n",
       "      <td>4/19/2023</td>\n",
       "      <td>NBG - SOUTH II</td>\n",
       "      <td>VISAKHAPATNAM ZONAL OFFICE</td>\n",
       "      <td>Yes</td>\n",
       "      <td>webservice</td>\n",
       "      <td>No</td>\n",
       "    </tr>\n",
       "    <tr>\n",
       "      <th>1</th>\n",
       "      <td>554685</td>\n",
       "      <td>Retail</td>\n",
       "      <td>PERSONAL LOAN</td>\n",
       "      <td>PERSONAL LOAN</td>\n",
       "      <td>₹ 300,000.00</td>\n",
       "      <td>New Lead</td>\n",
       "      <td>Website</td>\n",
       "      <td>Admin</td>\n",
       "      <td>MOTERA</td>\n",
       "      <td>4/19/2023</td>\n",
       "      <td>NBG- GUJARAT</td>\n",
       "      <td>AHMEDABAD ZONAL OFFICE</td>\n",
       "      <td>Yes</td>\n",
       "      <td>webservice</td>\n",
       "      <td>No</td>\n",
       "    </tr>\n",
       "    <tr>\n",
       "      <th>2</th>\n",
       "      <td>554684</td>\n",
       "      <td>Resource Mobilization</td>\n",
       "      <td>SB(Saving Bank Account)</td>\n",
       "      <td>NaN</td>\n",
       "      <td>₹ 101.00</td>\n",
       "      <td>New Lead</td>\n",
       "      <td>EPL Branch</td>\n",
       "      <td>BARWAHA</td>\n",
       "      <td>BARWAHA</td>\n",
       "      <td>4/19/2023</td>\n",
       "      <td>NBG MP&amp;CG</td>\n",
       "      <td>DHAR ZONAL OFFICE</td>\n",
       "      <td>Yes</td>\n",
       "      <td>webservice</td>\n",
       "      <td>No</td>\n",
       "    </tr>\n",
       "    <tr>\n",
       "      <th>3</th>\n",
       "      <td>554683</td>\n",
       "      <td>Resource Mobilization</td>\n",
       "      <td>SB</td>\n",
       "      <td>NaN</td>\n",
       "      <td>₹ 100.00</td>\n",
       "      <td>New Lead</td>\n",
       "      <td>EPL Web</td>\n",
       "      <td>Admin</td>\n",
       "      <td>NaN</td>\n",
       "      <td>4/19/2023</td>\n",
       "      <td>NaN</td>\n",
       "      <td>NaN</td>\n",
       "      <td>Yes</td>\n",
       "      <td>webservice</td>\n",
       "      <td>No</td>\n",
       "    </tr>\n",
       "    <tr>\n",
       "      <th>4</th>\n",
       "      <td>554682</td>\n",
       "      <td>Resource Mobilization</td>\n",
       "      <td>SB</td>\n",
       "      <td>NaN</td>\n",
       "      <td>₹ 101.00</td>\n",
       "      <td>New Lead</td>\n",
       "      <td>EPL Branch</td>\n",
       "      <td>LOKANATH TEMPLE ROAD</td>\n",
       "      <td>LOKANATH TEMPLE ROAD</td>\n",
       "      <td>4/19/2023</td>\n",
       "      <td>NBG ODISHA</td>\n",
       "      <td>BHUBANESHWAR ZONAL OFFICE</td>\n",
       "      <td>Yes</td>\n",
       "      <td>webservice</td>\n",
       "      <td>No</td>\n",
       "    </tr>\n",
       "  </tbody>\n",
       "</table>\n",
       "</div>"
      ],
      "text/plain": [
       "  Lead Id       Product Category  \\\n",
       "0  554686                   MSME   \n",
       "1  554685                 Retail   \n",
       "2  554684  Resource Mobilization   \n",
       "3  554683  Resource Mobilization   \n",
       "4  554682  Resource Mobilization   \n",
       "\n",
       "                                             Product  \\\n",
       "0  PMMY Kishore loan (Above 50000 to up to 5.00 l...   \n",
       "1                                      PERSONAL LOAN   \n",
       "2                            SB(Saving Bank Account)   \n",
       "3                                                 SB   \n",
       "4                                                 SB   \n",
       "\n",
       "                               Sub Product        Amount Status Code  \\\n",
       "0  Kishore Loan (Rs. 50000 to upto 5 Lacs)      ₹ 101.00    New Lead   \n",
       "1                            PERSONAL LOAN  ₹ 300,000.00    New Lead   \n",
       "2                                      NaN      ₹ 101.00    New Lead   \n",
       "3                                      NaN      ₹ 100.00    New Lead   \n",
       "4                                      NaN      ₹ 101.00    New Lead   \n",
       "\n",
       "       Source           Assigned To                Branch       Last  \\\n",
       "0  EPL Branch           MADHURAWADA           MADHURAWADA  4/19/2023   \n",
       "1     Website                 Admin                MOTERA  4/19/2023   \n",
       "2  EPL Branch               BARWAHA               BARWAHA  4/19/2023   \n",
       "3     EPL Web                 Admin                   NaN  4/19/2023   \n",
       "4  EPL Branch  LOKANATH TEMPLE ROAD  LOKANATH TEMPLE ROAD  4/19/2023   \n",
       "\n",
       "         Lead NBG                   Lead Zone  STP  Created By Dropout  \n",
       "0  NBG - SOUTH II  VISAKHAPATNAM ZONAL OFFICE  Yes  webservice      No  \n",
       "1    NBG- GUJARAT      AHMEDABAD ZONAL OFFICE  Yes  webservice      No  \n",
       "2       NBG MP&CG           DHAR ZONAL OFFICE  Yes  webservice      No  \n",
       "3             NaN                         NaN  Yes  webservice      No  \n",
       "4      NBG ODISHA   BHUBANESHWAR ZONAL OFFICE  Yes  webservice      No  "
      ]
     },
     "execution_count": 16,
     "metadata": {},
     "output_type": "execute_result"
    }
   ],
   "source": [
    "df.head()"
   ]
  },
  {
   "cell_type": "code",
   "execution_count": 17,
   "metadata": {
    "colab": {
     "base_uri": "https://localhost:8080/"
    },
    "id": "fe-nn94aez98",
    "outputId": "39ef660d-4e67-4fd7-d5ca-b3a56862ea85"
   },
   "outputs": [
    {
     "name": "stdout",
     "output_type": "stream",
     "text": [
      "<class 'pandas.core.frame.DataFrame'>\n",
      "RangeIndex: 134764 entries, 0 to 134763\n",
      "Data columns (total 15 columns):\n",
      " #   Column            Non-Null Count   Dtype \n",
      "---  ------            --------------   ----- \n",
      " 0   Lead Id           134757 non-null  object\n",
      " 1   Product Category  134756 non-null  object\n",
      " 2   Product           134757 non-null  object\n",
      " 3   Sub Product       98333 non-null   object\n",
      " 4   Amount            134757 non-null  object\n",
      " 5   Status Code       134756 non-null  object\n",
      " 6   Source            134756 non-null  object\n",
      " 7   Assigned To       134756 non-null  object\n",
      " 8   Branch            109604 non-null  object\n",
      " 9   Last              134756 non-null  object\n",
      " 10  Lead NBG          109588 non-null  object\n",
      " 11  Lead Zone         109586 non-null  object\n",
      " 12  STP               134756 non-null  object\n",
      " 13  Created By        134756 non-null  object\n",
      " 14  Dropout           134756 non-null  object\n",
      "dtypes: object(15)\n",
      "memory usage: 15.4+ MB\n"
     ]
    }
   ],
   "source": [
    "df.info()"
   ]
  },
  {
   "cell_type": "code",
   "execution_count": 18,
   "metadata": {
    "colab": {
     "base_uri": "https://localhost:8080/"
    },
    "id": "lNjKSrFKnVtD",
    "outputId": "7be545f3-b458-4590-db61-a55fe55ce32f"
   },
   "outputs": [
    {
     "data": {
      "text/plain": [
       "Index(['Lead Id', 'Product Category', 'Product', 'Sub Product', 'Amount',\n",
       "       'Status Code', 'Source', 'Assigned To', 'Branch', 'Last', 'Lead NBG',\n",
       "       'Lead Zone', 'STP', 'Created By', 'Dropout'],\n",
       "      dtype='object')"
      ]
     },
     "execution_count": 18,
     "metadata": {},
     "output_type": "execute_result"
    }
   ],
   "source": [
    "df.columns"
   ]
  },
  {
   "cell_type": "code",
   "execution_count": 19,
   "metadata": {
    "id": "dEbmDY77nNar"
   },
   "outputs": [],
   "source": [
    "df=df.drop(['Lead Id'],axis=1)"
   ]
  },
  {
   "cell_type": "code",
   "execution_count": null,
   "metadata": {
    "id": "F3VKK21lnZbR"
   },
   "outputs": [],
   "source": []
  },
  {
   "cell_type": "code",
   "execution_count": 20,
   "metadata": {
    "colab": {
     "base_uri": "https://localhost:8080/"
    },
    "id": "oWFpJ3jBnlas",
    "outputId": "bb141358-6cbe-49d7-87b0-d556a8accce7"
   },
   "outputs": [
    {
     "data": {
      "text/plain": [
       "0         PMMY Kishore loan (Above 50000 to up to 5.00 l...\n",
       "1                                             PERSONAL LOAN\n",
       "2                                   SB(Saving Bank Account)\n",
       "3                                                        SB\n",
       "4                                                        SB\n",
       "                                ...                        \n",
       "134759                                                  NaN\n",
       "134760                                                  NaN\n",
       "134761                                                  NaN\n",
       "134762                                                  NaN\n",
       "134763                                                  NaN\n",
       "Name: Product, Length: 134764, dtype: object"
      ]
     },
     "execution_count": 20,
     "metadata": {},
     "output_type": "execute_result"
    }
   ],
   "source": [
    "df['Product']"
   ]
  },
  {
   "cell_type": "code",
   "execution_count": 21,
   "metadata": {
    "colab": {
     "base_uri": "https://localhost:8080/"
    },
    "id": "z_kj63KboQTT",
    "outputId": "8f44314e-52a6-4602-c0bc-587ddd637754"
   },
   "outputs": [
    {
     "data": {
      "text/plain": [
       "array(['PMMY Kishore loan (Above 50000 to up to 5.00 lakhs)',\n",
       "       'PERSONAL LOAN', 'SB(Saving Bank Account)', 'SB',\n",
       "       'PMMY Tarun Loan (Above 5 lakhs to up to 10 lakhs)',\n",
       "       'Agriculture Gold Loan', 'Gold Loan', ' VEHICLE LOAN',\n",
       "       'Kisan Credit Card', ' HOME LOAN',\n",
       "       'PMMY Shishu Loan(Up to Rs. 50000)', 'HOME LOAN', 'VEHICLE LOAN',\n",
       "       'LOAN AGAINST PROPERTY', 'Credit Card', 'MSME Business Loans',\n",
       "       ' EDUCATION LOAN', 'MSME CAA PRE-APPROVAL', 'SRTO',\n",
       "       ' LOAN AGAINST PROPERTY', 'GOLD LOAN', 'Dairy',\n",
       "       'PPF- Public Provident Fund', 'Loan against warehouse receipt',\n",
       "       'Letter of Credit (LC)', ' IPO LOAN', 'Other Agriculture Loan',\n",
       "       'Kisan Ghar', 'TDR', ' Reverse Mortgage Loan',\n",
       "       ' Asset Backed loan', ' TOP UP LOAN', 'CD', '  DOCTOR PLUS',\n",
       "       'Insurance', ' WEAVER MUDRA SCHEME',\n",
       "       'Agri Clinic and Agri Business Centres Scheme (ACABC)',\n",
       "       'Food and Agro', 'Agriculture Marketing Infrastructure (AMI)',\n",
       "       '  Vyapar Loan', 'SHG - Cash Credit', ' MSME E- Rickshaw',\n",
       "       'Land purchase Loan', 'Farm Mechanisation', 'Poultry',\n",
       "       'Agriculture Infrastructure', 'Other Allied Activities - EMI TL',\n",
       "       'E-NPS', ' Stand Up India Scheme', ' Mortgage Loan',\n",
       "       ' Employment Scheme Rehabilitation of Manual Scavengers',\n",
       "       'Kisan Vahan', ' SME CONTRACTOR CREDIT LINE', 'MSME Renewal',\n",
       "       ' MSME GST Plus', 'LOAN AGAINST TERM DEPOSITS', ' t up Scheme',\n",
       "       ' SME AUTO EXPRESS', 'Land Development Loan',\n",
       "       'SSA- Sukanya Samriddhi Account', 'SHG - Term loan',\n",
       "       'SCSS- Senior Citizen Saving Scheme',\n",
       "       'LOAN AGAINST GOVERNMENT SECURITIES', 'Bank Guarantee (BG)',\n",
       "       ' Pisciculture Scheme', ' SME LIQUID PLUS',\n",
       "       'RBI Bonds- Floating Rate Savings Bond', 'Biotechnology loan',\n",
       "       'Bio Energy Scheme', ' SME EDUCATION PLUS',\n",
       "       'Agriculture Infrastructure - EMI TL', 'Sovereign Gold Bond',\n",
       "       'Cold Storage - EMI TL', 'Harvesting & Transport Advance',\n",
       "       'Minor irrigation Loan', 'Loan to farmer through PACS/FSS/LAMPS',\n",
       "       'OD AGAINST GOVT SECURITIES', 'Cold Storage',\n",
       "       ' LAGHU UDYAMI SAMIKET LOAN', 'Ad-hoc and TOL',\n",
       "       'NBFC(MFI)Agriculture',\n",
       "       'TRADE RECEIVABLE DISCOUNTING SYSTEM (TReDS)',\n",
       "       'Agriculture Infrastructure Fund (AIF)', 'Mutual Funds',\n",
       "       'OD AGAINST TERM DEPOSIT',\n",
       "       'National Urban Livlihoods Mission (DAY-NULM)', nan, '1'],\n",
       "      dtype=object)"
      ]
     },
     "execution_count": 21,
     "metadata": {},
     "output_type": "execute_result"
    }
   ],
   "source": [
    "df['Product'].unique()"
   ]
  },
  {
   "cell_type": "code",
   "execution_count": 22,
   "metadata": {
    "colab": {
     "base_uri": "https://localhost:8080/"
    },
    "id": "yteIDuhCna8d",
    "outputId": "4a4f7514-6eb5-45e4-d7a2-4890b14489b9"
   },
   "outputs": [
    {
     "data": {
      "text/plain": [
       "134764"
      ]
     },
     "execution_count": 22,
     "metadata": {},
     "output_type": "execute_result"
    }
   ],
   "source": [
    "len(df)"
   ]
  },
  {
   "cell_type": "code",
   "execution_count": 23,
   "metadata": {
    "id": "5F28LVlRnh7J"
   },
   "outputs": [],
   "source": [
    "df=df.dropna(axis=0)"
   ]
  },
  {
   "cell_type": "code",
   "execution_count": 24,
   "metadata": {
    "colab": {
     "base_uri": "https://localhost:8080/"
    },
    "id": "mgHQYrfpoq-K",
    "outputId": "daf62a31-e88b-43bd-ce84-51ddb17a0d40"
   },
   "outputs": [
    {
     "data": {
      "text/plain": [
       "93942"
      ]
     },
     "execution_count": 24,
     "metadata": {},
     "output_type": "execute_result"
    }
   ],
   "source": [
    "len(df)\n"
   ]
  },
  {
   "cell_type": "markdown",
   "metadata": {
    "id": "eCr7xkfdEu6b"
   },
   "source": [
    "## exploring the type of loans taken by majority of the population"
   ]
  },
  {
   "cell_type": "code",
   "execution_count": null,
   "metadata": {
    "id": "U94frhZeEtZC"
   },
   "outputs": [],
   "source": []
  },
  {
   "cell_type": "code",
   "execution_count": 25,
   "metadata": {
    "colab": {
     "base_uri": "https://localhost:8080/"
    },
    "id": "B8Gpyaz3oxAf",
    "outputId": "2695d844-9a13-401f-af62-9020ca3e113e"
   },
   "outputs": [
    {
     "data": {
      "text/plain": [
       "SB                                                     47860\n",
       "Agriculture Gold Loan                                  14836\n",
       "PERSONAL LOAN                                           6238\n",
       "PMMY Kishore loan (Above 50000 to up to 5.00 lakhs)     5510\n",
       "Credit Card                                             4969\n",
       "                                                       ...  \n",
       "Loan against warehouse receipt                             2\n",
       "VEHICLE LOAN                                               1\n",
       "Mutual Funds                                               1\n",
       "OD AGAINST TERM DEPOSIT                                    1\n",
       "National Urban Livlihoods Mission (DAY-NULM)               1\n",
       "Name: Product, Length: 83, dtype: int64"
      ]
     },
     "execution_count": 25,
     "metadata": {},
     "output_type": "execute_result"
    }
   ],
   "source": [
    "df['Product'].value_counts()"
   ]
  },
  {
   "cell_type": "code",
   "execution_count": 26,
   "metadata": {
    "colab": {
     "base_uri": "https://localhost:8080/"
    },
    "id": "aiy8G2D2o4Oq",
    "outputId": "634d4620-6a07-47c3-e62e-25fbf314f0fc"
   },
   "outputs": [
    {
     "data": {
      "text/plain": [
       " Mortgage Loan                                            19\n",
       " Stand Up India Scheme                                    18\n",
       "SSA- Sukanya Samriddhi Account                            18\n",
       "Agriculture Marketing Infrastructure (AMI)                17\n",
       " WEAVER MUDRA SCHEME                                      14\n",
       "Biotechnology loan                                        13\n",
       "MSME Renewal                                              11\n",
       "LOAN AGAINST TERM DEPOSITS                                10\n",
       "  DOCTOR PLUS                                             10\n",
       "SHG - Term loan                                           10\n",
       "LOAN AGAINST GOVERNMENT SECURITIES                         9\n",
       "Agriculture Infrastructure Fund (AIF)                      9\n",
       "Sovereign Gold Bond                                        9\n",
       "Bio Energy Scheme                                          8\n",
       "Cold Storage                                               8\n",
       "Ad-hoc and TOL                                             8\n",
       " Employment Scheme Rehabilitation of Manual Scavengers     8\n",
       " SME CONTRACTOR CREDIT LINE                                7\n",
       "Other Allied Activities - EMI TL                           7\n",
       " Reverse Mortgage Loan                                     7\n",
       "Harvesting & Transport Advance                             7\n",
       " Pisciculture Scheme                                       6\n",
       "Loan to farmer through PACS/FSS/LAMPS                      6\n",
       " Asset Backed loan                                         6\n",
       "Minor irrigation Loan                                      6\n",
       "Insurance                                                  5\n",
       "OD AGAINST GOVT SECURITIES                                 5\n",
       " SME AUTO EXPRESS                                          5\n",
       "NBFC(MFI)Agriculture                                       5\n",
       "TRADE RECEIVABLE DISCOUNTING SYSTEM (TReDS)                5\n",
       " SME EDUCATION PLUS                                        5\n",
       " LAGHU UDYAMI SAMIKET LOAN                                 4\n",
       "Cold Storage - EMI TL                                      4\n",
       " IPO LOAN                                                  2\n",
       " SME LIQUID PLUS                                           2\n",
       "Loan against warehouse receipt                             2\n",
       "VEHICLE LOAN                                               1\n",
       "Mutual Funds                                               1\n",
       "OD AGAINST TERM DEPOSIT                                    1\n",
       "Name: Product, dtype: int64"
      ]
     },
     "execution_count": 26,
     "metadata": {},
     "output_type": "execute_result"
    }
   ],
   "source": [
    "df['Product'].value_counts()[-40:-1]"
   ]
  },
  {
   "cell_type": "code",
   "execution_count": 27,
   "metadata": {
    "id": "V0FMu42DrHjb"
   },
   "outputs": [],
   "source": [
    "product_counts=df['Product'].value_counts()\n"
   ]
  },
  {
   "cell_type": "code",
   "execution_count": 28,
   "metadata": {
    "id": "CzCwI4aGsHuJ"
   },
   "outputs": [],
   "source": [
    "product_counts=dict(product_counts)"
   ]
  },
  {
   "cell_type": "code",
   "execution_count": 29,
   "metadata": {
    "colab": {
     "base_uri": "https://localhost:8080/"
    },
    "id": "zekK4C08sJnv",
    "outputId": "6286ea70-ea6e-46dd-97e6-3cc1a7aa6d5d"
   },
   "outputs": [
    {
     "data": {
      "text/plain": [
       "{'SB': 47860,\n",
       " 'Agriculture Gold Loan': 14836,\n",
       " 'PERSONAL LOAN': 6238,\n",
       " 'PMMY Kishore loan (Above 50000 to up to 5.00 lakhs)': 5510,\n",
       " 'Credit Card': 4969,\n",
       " 'PMMY Shishu Loan(Up to Rs. 50000)': 2512,\n",
       " 'PMMY Tarun Loan (Above 5 lakhs to up to 10 lakhs)': 1836,\n",
       " 'Gold Loan': 1666,\n",
       " ' HOME LOAN': 1411,\n",
       " 'Kisan Credit Card': 1089,\n",
       " 'MSME Business Loans': 889,\n",
       " ' VEHICLE LOAN': 852,\n",
       " 'GOLD LOAN': 806,\n",
       " 'PPF- Public Provident Fund': 633,\n",
       " ' EDUCATION LOAN': 324,\n",
       " 'Dairy': 281,\n",
       " ' TOP UP LOAN': 254,\n",
       " 'Kisan Ghar': 147,\n",
       " ' LOAN AGAINST PROPERTY': 131,\n",
       " 'TDR': 125,\n",
       " 'SRTO': 122,\n",
       " 'Agriculture Infrastructure': 95,\n",
       " '  Vyapar Loan': 87,\n",
       " 'Land purchase Loan': 82,\n",
       " 'Poultry': 81,\n",
       " 'Agri Clinic and Agri Business Centres Scheme (ACABC)': 80,\n",
       " 'CD': 78,\n",
       " 'Letter of Credit (LC)': 75,\n",
       " 'Food and Agro': 65,\n",
       " 'E-NPS': 63,\n",
       " ' MSME E- Rickshaw': 58,\n",
       " 'Other Agriculture Loan': 51,\n",
       " 'Kisan Vahan': 45,\n",
       " ' t up Scheme': 44,\n",
       " ' MSME GST Plus': 41,\n",
       " 'Farm Mechanisation': 35,\n",
       " 'Land Development Loan': 32,\n",
       " 'MSME CAA PRE-APPROVAL': 29,\n",
       " 'SCSS- Senior Citizen Saving Scheme': 27,\n",
       " 'RBI Bonds- Floating Rate Savings Bond': 23,\n",
       " 'SHG - Cash Credit': 21,\n",
       " 'Bank Guarantee (BG)': 20,\n",
       " 'Agriculture Infrastructure - EMI TL': 20,\n",
       " ' Mortgage Loan': 19,\n",
       " ' Stand Up India Scheme': 18,\n",
       " 'SSA- Sukanya Samriddhi Account': 18,\n",
       " 'Agriculture Marketing Infrastructure (AMI)': 17,\n",
       " ' WEAVER MUDRA SCHEME': 14,\n",
       " 'Biotechnology loan': 13,\n",
       " 'MSME Renewal': 11,\n",
       " 'LOAN AGAINST TERM DEPOSITS': 10,\n",
       " '  DOCTOR PLUS': 10,\n",
       " 'SHG - Term loan': 10,\n",
       " 'LOAN AGAINST GOVERNMENT SECURITIES': 9,\n",
       " 'Agriculture Infrastructure Fund (AIF)': 9,\n",
       " 'Sovereign Gold Bond': 9,\n",
       " 'Bio Energy Scheme': 8,\n",
       " 'Cold Storage': 8,\n",
       " 'Ad-hoc and TOL': 8,\n",
       " ' Employment Scheme Rehabilitation of Manual Scavengers': 8,\n",
       " ' SME CONTRACTOR CREDIT LINE': 7,\n",
       " 'Other Allied Activities - EMI TL': 7,\n",
       " ' Reverse Mortgage Loan': 7,\n",
       " 'Harvesting & Transport Advance': 7,\n",
       " ' Pisciculture Scheme': 6,\n",
       " 'Loan to farmer through PACS/FSS/LAMPS': 6,\n",
       " ' Asset Backed loan': 6,\n",
       " 'Minor irrigation Loan': 6,\n",
       " 'Insurance': 5,\n",
       " 'OD AGAINST GOVT SECURITIES': 5,\n",
       " ' SME AUTO EXPRESS': 5,\n",
       " 'NBFC(MFI)Agriculture': 5,\n",
       " 'TRADE RECEIVABLE DISCOUNTING SYSTEM (TReDS)': 5,\n",
       " ' SME EDUCATION PLUS': 5,\n",
       " ' LAGHU UDYAMI SAMIKET LOAN': 4,\n",
       " 'Cold Storage - EMI TL': 4,\n",
       " ' IPO LOAN': 2,\n",
       " ' SME LIQUID PLUS': 2,\n",
       " 'Loan against warehouse receipt': 2,\n",
       " 'VEHICLE LOAN': 1,\n",
       " 'Mutual Funds': 1,\n",
       " 'OD AGAINST TERM DEPOSIT': 1,\n",
       " 'National Urban Livlihoods Mission (DAY-NULM)': 1}"
      ]
     },
     "execution_count": 29,
     "metadata": {},
     "output_type": "execute_result"
    }
   ],
   "source": [
    "product_counts"
   ]
  },
  {
   "cell_type": "markdown",
   "metadata": {
    "id": "WaOnCq4aFyyY"
   },
   "source": [
    "## Keep only those products in your list which are significant and has atleast >100 occurences ,rest all of the types of products are extremely rare to occur thus we can ignore them"
   ]
  },
  {
   "cell_type": "code",
   "execution_count": null,
   "metadata": {
    "id": "klQQHD2bFviP"
   },
   "outputs": [],
   "source": []
  },
  {
   "cell_type": "code",
   "execution_count": 30,
   "metadata": {
    "id": "yuAf4RGBsmPh"
   },
   "outputs": [],
   "source": [
    "product_counts_threshold=100\n",
    "final_list=[]"
   ]
  },
  {
   "cell_type": "code",
   "execution_count": 31,
   "metadata": {
    "id": "GzF013vBsQ1L"
   },
   "outputs": [],
   "source": [
    "for keya in product_counts.keys():\n",
    "  if product_counts[keya]>product_counts_threshold:\n",
    "    final_list.append(keya)\n"
   ]
  },
  {
   "cell_type": "code",
   "execution_count": 32,
   "metadata": {
    "colab": {
     "base_uri": "https://localhost:8080/"
    },
    "id": "ElbcRVL2vb-Z",
    "outputId": "6e160704-f678-49f2-d7ed-a9044b15d1e7"
   },
   "outputs": [
    {
     "data": {
      "text/plain": [
       "['SB',\n",
       " 'Agriculture Gold Loan',\n",
       " 'PERSONAL LOAN',\n",
       " 'PMMY Kishore loan (Above 50000 to up to 5.00 lakhs)',\n",
       " 'Credit Card',\n",
       " 'PMMY Shishu Loan(Up to Rs. 50000)',\n",
       " 'PMMY Tarun Loan (Above 5 lakhs to up to 10 lakhs)',\n",
       " 'Gold Loan',\n",
       " ' HOME LOAN',\n",
       " 'Kisan Credit Card',\n",
       " 'MSME Business Loans',\n",
       " ' VEHICLE LOAN',\n",
       " 'GOLD LOAN',\n",
       " 'PPF- Public Provident Fund',\n",
       " ' EDUCATION LOAN',\n",
       " 'Dairy',\n",
       " ' TOP UP LOAN',\n",
       " 'Kisan Ghar',\n",
       " ' LOAN AGAINST PROPERTY',\n",
       " 'TDR',\n",
       " 'SRTO']"
      ]
     },
     "execution_count": 32,
     "metadata": {},
     "output_type": "execute_result"
    }
   ],
   "source": [
    "\n",
    "\n",
    "final_list"
   ]
  },
  {
   "cell_type": "code",
   "execution_count": 33,
   "metadata": {
    "id": "2aEtBsxyvrQd"
   },
   "outputs": [],
   "source": [
    "\n",
    "df=df[df['Product'].isin(final_list)]"
   ]
  },
  {
   "cell_type": "code",
   "execution_count": 34,
   "metadata": {
    "colab": {
     "base_uri": "https://localhost:8080/",
     "height": 797
    },
    "id": "q-wT_y5Hwcts",
    "outputId": "71e651f3-241e-4d4f-f6d9-4f0e85681bc0"
   },
   "outputs": [
    {
     "data": {
      "text/html": [
       "<div>\n",
       "<style scoped>\n",
       "    .dataframe tbody tr th:only-of-type {\n",
       "        vertical-align: middle;\n",
       "    }\n",
       "\n",
       "    .dataframe tbody tr th {\n",
       "        vertical-align: top;\n",
       "    }\n",
       "\n",
       "    .dataframe thead th {\n",
       "        text-align: right;\n",
       "    }\n",
       "</style>\n",
       "<table border=\"1\" class=\"dataframe\">\n",
       "  <thead>\n",
       "    <tr style=\"text-align: right;\">\n",
       "      <th></th>\n",
       "      <th>Product Category</th>\n",
       "      <th>Product</th>\n",
       "      <th>Sub Product</th>\n",
       "      <th>Amount</th>\n",
       "      <th>Status Code</th>\n",
       "      <th>Source</th>\n",
       "      <th>Assigned To</th>\n",
       "      <th>Branch</th>\n",
       "      <th>Last</th>\n",
       "      <th>Lead NBG</th>\n",
       "      <th>Lead Zone</th>\n",
       "      <th>STP</th>\n",
       "      <th>Created By</th>\n",
       "      <th>Dropout</th>\n",
       "    </tr>\n",
       "  </thead>\n",
       "  <tbody>\n",
       "    <tr>\n",
       "      <th>0</th>\n",
       "      <td>MSME</td>\n",
       "      <td>PMMY Kishore loan (Above 50000 to up to 5.00 l...</td>\n",
       "      <td>Kishore Loan (Rs. 50000 to upto 5 Lacs)</td>\n",
       "      <td>₹ 101.00</td>\n",
       "      <td>New Lead</td>\n",
       "      <td>EPL Branch</td>\n",
       "      <td>MADHURAWADA</td>\n",
       "      <td>MADHURAWADA</td>\n",
       "      <td>4/19/2023</td>\n",
       "      <td>NBG - SOUTH II</td>\n",
       "      <td>VISAKHAPATNAM ZONAL OFFICE</td>\n",
       "      <td>Yes</td>\n",
       "      <td>webservice</td>\n",
       "      <td>No</td>\n",
       "    </tr>\n",
       "    <tr>\n",
       "      <th>1</th>\n",
       "      <td>Retail</td>\n",
       "      <td>PERSONAL LOAN</td>\n",
       "      <td>PERSONAL LOAN</td>\n",
       "      <td>₹ 300,000.00</td>\n",
       "      <td>New Lead</td>\n",
       "      <td>Website</td>\n",
       "      <td>Admin</td>\n",
       "      <td>MOTERA</td>\n",
       "      <td>4/19/2023</td>\n",
       "      <td>NBG- GUJARAT</td>\n",
       "      <td>AHMEDABAD ZONAL OFFICE</td>\n",
       "      <td>Yes</td>\n",
       "      <td>webservice</td>\n",
       "      <td>No</td>\n",
       "    </tr>\n",
       "    <tr>\n",
       "      <th>7</th>\n",
       "      <td>MSME</td>\n",
       "      <td>PMMY Kishore loan (Above 50000 to up to 5.00 l...</td>\n",
       "      <td>Kishore Loan (Rs. 50000 to upto 5 Lacs)</td>\n",
       "      <td>₹ 101.00</td>\n",
       "      <td>New Lead</td>\n",
       "      <td>EPL Branch</td>\n",
       "      <td>NEW CLOTH MARKET</td>\n",
       "      <td>NEW CLOTH MARKET</td>\n",
       "      <td>4/19/2023</td>\n",
       "      <td>NBG- GUJARAT</td>\n",
       "      <td>AHMEDABAD ZONAL OFFICE</td>\n",
       "      <td>Yes</td>\n",
       "      <td>webservice</td>\n",
       "      <td>No</td>\n",
       "    </tr>\n",
       "    <tr>\n",
       "      <th>9</th>\n",
       "      <td>MSME</td>\n",
       "      <td>PMMY Tarun Loan (Above 5 lakhs to up to 10 lakhs)</td>\n",
       "      <td>Tarun Loans(5 Lacs to 10 Lacs)</td>\n",
       "      <td>₹ 101.00</td>\n",
       "      <td>New Lead</td>\n",
       "      <td>EPL Branch</td>\n",
       "      <td>BERO</td>\n",
       "      <td>BERO</td>\n",
       "      <td>4/19/2023</td>\n",
       "      <td>NBG -JHARKHAND</td>\n",
       "      <td>RANCHI  ZONAL OFFICE</td>\n",
       "      <td>Yes</td>\n",
       "      <td>webservice</td>\n",
       "      <td>No</td>\n",
       "    </tr>\n",
       "    <tr>\n",
       "      <th>12</th>\n",
       "      <td>Agriculture</td>\n",
       "      <td>Agriculture Gold Loan</td>\n",
       "      <td>Gold Agriculture Multipurpose Loan</td>\n",
       "      <td>₹ 574,000.00</td>\n",
       "      <td>New Lead</td>\n",
       "      <td>EPL Branch</td>\n",
       "      <td>REPALLE</td>\n",
       "      <td>REPALLE</td>\n",
       "      <td>4/19/2023</td>\n",
       "      <td>NBG - SOUTH II</td>\n",
       "      <td>VIJAYAWADA ZONAL OFFICE</td>\n",
       "      <td>Yes</td>\n",
       "      <td>webservice</td>\n",
       "      <td>No</td>\n",
       "    </tr>\n",
       "    <tr>\n",
       "      <th>...</th>\n",
       "      <td>...</td>\n",
       "      <td>...</td>\n",
       "      <td>...</td>\n",
       "      <td>...</td>\n",
       "      <td>...</td>\n",
       "      <td>...</td>\n",
       "      <td>...</td>\n",
       "      <td>...</td>\n",
       "      <td>...</td>\n",
       "      <td>...</td>\n",
       "      <td>...</td>\n",
       "      <td>...</td>\n",
       "      <td>...</td>\n",
       "      <td>...</td>\n",
       "    </tr>\n",
       "    <tr>\n",
       "      <th>134750</th>\n",
       "      <td>Retail</td>\n",
       "      <td>PERSONAL LOAN</td>\n",
       "      <td>PERSONAL LOAN</td>\n",
       "      <td>₹ 200,000.00</td>\n",
       "      <td>New Lead</td>\n",
       "      <td>Website</td>\n",
       "      <td>Admin</td>\n",
       "      <td>MANDVI</td>\n",
       "      <td>3/1/2023</td>\n",
       "      <td>NBG - WEST -I</td>\n",
       "      <td>MUMBAI SOUTH  ZONAL OFFICE</td>\n",
       "      <td>Yes</td>\n",
       "      <td>Admin</td>\n",
       "      <td>No</td>\n",
       "    </tr>\n",
       "    <tr>\n",
       "      <th>134751</th>\n",
       "      <td>Resource Mobilization</td>\n",
       "      <td>SB</td>\n",
       "      <td>General</td>\n",
       "      <td>₹ 100.00</td>\n",
       "      <td>Converted</td>\n",
       "      <td>EPL Web</td>\n",
       "      <td>Admin</td>\n",
       "      <td>BHAWANI MANDI</td>\n",
       "      <td>3/1/2023</td>\n",
       "      <td>NBG - NEW DELHI</td>\n",
       "      <td>JODHPUR  ZONAL OFFICE</td>\n",
       "      <td>Yes</td>\n",
       "      <td>webservice</td>\n",
       "      <td>No</td>\n",
       "    </tr>\n",
       "    <tr>\n",
       "      <th>134752</th>\n",
       "      <td>Credit Card</td>\n",
       "      <td>Credit Card</td>\n",
       "      <td>Visa Gold International Credit Card</td>\n",
       "      <td>₹ 1.00</td>\n",
       "      <td>Not Interested</td>\n",
       "      <td>Website</td>\n",
       "      <td>ALIGARH</td>\n",
       "      <td>ALIGARH</td>\n",
       "      <td>3/2/2023</td>\n",
       "      <td>NBG - UTTAR PRADESH</td>\n",
       "      <td>AGRA ZONAL OFFICE</td>\n",
       "      <td>No</td>\n",
       "      <td>Admin</td>\n",
       "      <td>No</td>\n",
       "    </tr>\n",
       "    <tr>\n",
       "      <th>134754</th>\n",
       "      <td>Resource Mobilization</td>\n",
       "      <td>SB</td>\n",
       "      <td>General</td>\n",
       "      <td>₹ 100.00</td>\n",
       "      <td>Converted</td>\n",
       "      <td>EPL Web</td>\n",
       "      <td>Admin</td>\n",
       "      <td>JEYPORE</td>\n",
       "      <td>3/1/2023</td>\n",
       "      <td>NBG ODISHA</td>\n",
       "      <td>SAMBALPUR ZONAL OFFICE</td>\n",
       "      <td>Yes</td>\n",
       "      <td>webservice</td>\n",
       "      <td>No</td>\n",
       "    </tr>\n",
       "    <tr>\n",
       "      <th>134755</th>\n",
       "      <td>Resource Mobilization</td>\n",
       "      <td>SB</td>\n",
       "      <td>General</td>\n",
       "      <td>₹ 100.00</td>\n",
       "      <td>Converted</td>\n",
       "      <td>EPL Web</td>\n",
       "      <td>Admin</td>\n",
       "      <td>TILDA NEORA</td>\n",
       "      <td>3/1/2023</td>\n",
       "      <td>NBG MP&amp;CG</td>\n",
       "      <td>RAIPUR  ZONAL OFFICE</td>\n",
       "      <td>Yes</td>\n",
       "      <td>webservice</td>\n",
       "      <td>No</td>\n",
       "    </tr>\n",
       "  </tbody>\n",
       "</table>\n",
       "<p>92491 rows × 14 columns</p>\n",
       "</div>"
      ],
      "text/plain": [
       "             Product Category  \\\n",
       "0                        MSME   \n",
       "1                      Retail   \n",
       "7                        MSME   \n",
       "9                        MSME   \n",
       "12                Agriculture   \n",
       "...                       ...   \n",
       "134750                 Retail   \n",
       "134751  Resource Mobilization   \n",
       "134752            Credit Card   \n",
       "134754  Resource Mobilization   \n",
       "134755  Resource Mobilization   \n",
       "\n",
       "                                                  Product  \\\n",
       "0       PMMY Kishore loan (Above 50000 to up to 5.00 l...   \n",
       "1                                           PERSONAL LOAN   \n",
       "7       PMMY Kishore loan (Above 50000 to up to 5.00 l...   \n",
       "9       PMMY Tarun Loan (Above 5 lakhs to up to 10 lakhs)   \n",
       "12                                  Agriculture Gold Loan   \n",
       "...                                                   ...   \n",
       "134750                                      PERSONAL LOAN   \n",
       "134751                                                 SB   \n",
       "134752                                        Credit Card   \n",
       "134754                                                 SB   \n",
       "134755                                                 SB   \n",
       "\n",
       "                                    Sub Product        Amount     Status Code  \\\n",
       "0       Kishore Loan (Rs. 50000 to upto 5 Lacs)      ₹ 101.00        New Lead   \n",
       "1                                 PERSONAL LOAN  ₹ 300,000.00        New Lead   \n",
       "7       Kishore Loan (Rs. 50000 to upto 5 Lacs)      ₹ 101.00        New Lead   \n",
       "9                Tarun Loans(5 Lacs to 10 Lacs)      ₹ 101.00        New Lead   \n",
       "12           Gold Agriculture Multipurpose Loan  ₹ 574,000.00        New Lead   \n",
       "...                                         ...           ...             ...   \n",
       "134750                            PERSONAL LOAN  ₹ 200,000.00        New Lead   \n",
       "134751                                  General      ₹ 100.00       Converted   \n",
       "134752      Visa Gold International Credit Card        ₹ 1.00  Not Interested   \n",
       "134754                                  General      ₹ 100.00       Converted   \n",
       "134755                                  General      ₹ 100.00       Converted   \n",
       "\n",
       "            Source       Assigned To            Branch       Last  \\\n",
       "0       EPL Branch       MADHURAWADA       MADHURAWADA  4/19/2023   \n",
       "1          Website             Admin            MOTERA  4/19/2023   \n",
       "7       EPL Branch  NEW CLOTH MARKET  NEW CLOTH MARKET  4/19/2023   \n",
       "9       EPL Branch              BERO              BERO  4/19/2023   \n",
       "12      EPL Branch           REPALLE           REPALLE  4/19/2023   \n",
       "...            ...               ...               ...        ...   \n",
       "134750     Website             Admin            MANDVI   3/1/2023   \n",
       "134751     EPL Web             Admin     BHAWANI MANDI   3/1/2023   \n",
       "134752     Website           ALIGARH           ALIGARH   3/2/2023   \n",
       "134754     EPL Web             Admin           JEYPORE   3/1/2023   \n",
       "134755     EPL Web             Admin       TILDA NEORA   3/1/2023   \n",
       "\n",
       "                   Lead NBG                   Lead Zone  STP  Created By  \\\n",
       "0            NBG - SOUTH II  VISAKHAPATNAM ZONAL OFFICE  Yes  webservice   \n",
       "1              NBG- GUJARAT      AHMEDABAD ZONAL OFFICE  Yes  webservice   \n",
       "7              NBG- GUJARAT      AHMEDABAD ZONAL OFFICE  Yes  webservice   \n",
       "9            NBG -JHARKHAND        RANCHI  ZONAL OFFICE  Yes  webservice   \n",
       "12           NBG - SOUTH II     VIJAYAWADA ZONAL OFFICE  Yes  webservice   \n",
       "...                     ...                         ...  ...         ...   \n",
       "134750        NBG - WEST -I  MUMBAI SOUTH  ZONAL OFFICE  Yes       Admin   \n",
       "134751      NBG - NEW DELHI       JODHPUR  ZONAL OFFICE  Yes  webservice   \n",
       "134752  NBG - UTTAR PRADESH           AGRA ZONAL OFFICE   No       Admin   \n",
       "134754           NBG ODISHA      SAMBALPUR ZONAL OFFICE  Yes  webservice   \n",
       "134755            NBG MP&CG        RAIPUR  ZONAL OFFICE  Yes  webservice   \n",
       "\n",
       "       Dropout  \n",
       "0           No  \n",
       "1           No  \n",
       "7           No  \n",
       "9           No  \n",
       "12          No  \n",
       "...        ...  \n",
       "134750      No  \n",
       "134751      No  \n",
       "134752      No  \n",
       "134754      No  \n",
       "134755      No  \n",
       "\n",
       "[92491 rows x 14 columns]"
      ]
     },
     "execution_count": 34,
     "metadata": {},
     "output_type": "execute_result"
    }
   ],
   "source": [
    "df"
   ]
  },
  {
   "cell_type": "code",
   "execution_count": null,
   "metadata": {
    "id": "ERdxlDUmw23g"
   },
   "outputs": [],
   "source": []
  },
  {
   "cell_type": "code",
   "execution_count": 35,
   "metadata": {
    "id": "90gwd-XWxH_G"
   },
   "outputs": [],
   "source": [
    "product_counts=df['Product'].value_counts()\n"
   ]
  },
  {
   "cell_type": "code",
   "execution_count": 36,
   "metadata": {
    "id": "BAt4OVMkxH_H"
   },
   "outputs": [],
   "source": [
    "product_counts=dict(product_counts)"
   ]
  },
  {
   "cell_type": "code",
   "execution_count": 37,
   "metadata": {
    "colab": {
     "base_uri": "https://localhost:8080/"
    },
    "id": "3dDcuN8exH_H",
    "outputId": "b2ba2364-cdec-48d9-983c-11f17371fc72"
   },
   "outputs": [
    {
     "data": {
      "text/plain": [
       "{'SB': 47860,\n",
       " 'Agriculture Gold Loan': 14836,\n",
       " 'PERSONAL LOAN': 6238,\n",
       " 'PMMY Kishore loan (Above 50000 to up to 5.00 lakhs)': 5510,\n",
       " 'Credit Card': 4969,\n",
       " 'PMMY Shishu Loan(Up to Rs. 50000)': 2512,\n",
       " 'PMMY Tarun Loan (Above 5 lakhs to up to 10 lakhs)': 1836,\n",
       " 'Gold Loan': 1666,\n",
       " ' HOME LOAN': 1411,\n",
       " 'Kisan Credit Card': 1089,\n",
       " 'MSME Business Loans': 889,\n",
       " ' VEHICLE LOAN': 852,\n",
       " 'GOLD LOAN': 806,\n",
       " 'PPF- Public Provident Fund': 633,\n",
       " ' EDUCATION LOAN': 324,\n",
       " 'Dairy': 281,\n",
       " ' TOP UP LOAN': 254,\n",
       " 'Kisan Ghar': 147,\n",
       " ' LOAN AGAINST PROPERTY': 131,\n",
       " 'TDR': 125,\n",
       " 'SRTO': 122}"
      ]
     },
     "execution_count": 37,
     "metadata": {},
     "output_type": "execute_result"
    }
   ],
   "source": [
    "product_counts"
   ]
  },
  {
   "cell_type": "markdown",
   "metadata": {
    "id": "0PinORosGPZk"
   },
   "source": [
    "## As we can see in this majority of the loans taken are SB(S mall business loan), Agriculture Gold Loan and Personal Loan"
   ]
  },
  {
   "cell_type": "code",
   "execution_count": null,
   "metadata": {
    "id": "wcjjCNx-GM-u"
   },
   "outputs": [],
   "source": []
  },
  {
   "cell_type": "code",
   "execution_count": 38,
   "metadata": {
    "colab": {
     "base_uri": "https://localhost:8080/",
     "height": 447
    },
    "id": "2qTbus5VxKCx",
    "outputId": "2a30ca1f-5713-41cd-f5af-4f4619ef7b00"
   },
   "outputs": [
    {
     "data": {
      "text/plain": [
       "<AxesSubplot:>"
      ]
     },
     "execution_count": 38,
     "metadata": {},
     "output_type": "execute_result"
    },
    {
     "data": {
      "image/png": "[encoded data removed]",
      "text/plain": [
       "<Figure size 640x480 with 1 Axes>"
      ]
     },
     "metadata": {},
     "output_type": "display_data"
    }
   ],
   "source": [
    "sns.barplot(x=list(product_counts.values()),y=list(product_counts.keys()))"
   ]
  },
  {
   "cell_type": "code",
   "execution_count": 39,
   "metadata": {
    "colab": {
     "base_uri": "https://localhost:8080/"
    },
    "id": "SjJBe_sVxdtx",
    "outputId": "97973d51-ec01-433d-e625-5f9cf99e40ea"
   },
   "outputs": [
    {
     "data": {
      "text/plain": [
       "Index(['Product Category', 'Product', 'Sub Product', 'Amount', 'Status Code',\n",
       "       'Source', 'Assigned To', 'Branch', 'Last', 'Lead NBG', 'Lead Zone',\n",
       "       'STP', 'Created By', 'Dropout'],\n",
       "      dtype='object')"
      ]
     },
     "execution_count": 39,
     "metadata": {},
     "output_type": "execute_result"
    }
   ],
   "source": [
    "df.columns"
   ]
  },
  {
   "cell_type": "markdown",
   "metadata": {
    "id": "VpI98ErcGnKs"
   },
   "source": [
    "## Finding the source of all these loans and figuring out which medium brought in the maximum number of loans"
   ]
  },
  {
   "cell_type": "code",
   "execution_count": null,
   "metadata": {
    "id": "mzT8WqwFGkv1"
   },
   "outputs": [],
   "source": []
  },
  {
   "cell_type": "code",
   "execution_count": 40,
   "metadata": {
    "id": "ujAG26TQy_A9"
   },
   "outputs": [],
   "source": [
    "source_counts=df['Source'].value_counts()\n",
    "source_counts=dict(source_counts)"
   ]
  },
  {
   "cell_type": "code",
   "execution_count": 41,
   "metadata": {
    "colab": {
     "base_uri": "https://localhost:8080/"
    },
    "id": "UYrQ-dvp1Cy7",
    "outputId": "9cdf06d2-2ec9-4448-b25f-b2a4ec7abed7"
   },
   "outputs": [
    {
     "data": {
      "text/plain": [
       "{'EPL Branch': 56530,\n",
       " 'EPL Web': 18749,\n",
       " 'Contact Center': 7465,\n",
       " 'Website': 6594,\n",
       " 'Missed Call': 2201,\n",
       " 'Housing.com': 509,\n",
       " 'Mobile Banking': 246,\n",
       " 'Branch': 107,\n",
       " 'CIBIL': 28,\n",
       " 'ChatBot': 21,\n",
       " 'SMS': 14,\n",
       " 'Self Sourced': 13,\n",
       " 'MSIL': 13,\n",
       " 'Internet Banking': 1}"
      ]
     },
     "execution_count": 41,
     "metadata": {},
     "output_type": "execute_result"
    }
   ],
   "source": [
    "source_counts"
   ]
  },
  {
   "cell_type": "markdown",
   "metadata": {
    "id": "Yr3o-2JMG0aa"
   },
   "source": [
    "## As we can see here maximum customers were brought in by the bank branches,their website and the contact centres"
   ]
  },
  {
   "cell_type": "code",
   "execution_count": null,
   "metadata": {
    "id": "KPv8_lzwGy3m"
   },
   "outputs": [],
   "source": []
  },
  {
   "cell_type": "code",
   "execution_count": 42,
   "metadata": {
    "colab": {
     "base_uri": "https://localhost:8080/",
     "height": 447
    },
    "id": "O_gCT4rH1Eow",
    "outputId": "30fd9105-c407-4dde-bf7f-a2028054b9d8"
   },
   "outputs": [
    {
     "data": {
      "text/plain": [
       "<AxesSubplot:>"
      ]
     },
     "execution_count": 42,
     "metadata": {},
     "output_type": "execute_result"
    },
    {
     "data": {
      "image/png": "[encoded data removed]",
      "text/plain": [
       "<Figure size 640x480 with 1 Axes>"
      ]
     },
     "metadata": {},
     "output_type": "display_data"
    }
   ],
   "source": [
    "sns.barplot(x=list(source_counts.values()),y=list(source_counts.keys()))"
   ]
  },
  {
   "cell_type": "markdown",
   "metadata": {
    "id": "_mVvqEAoHGjm"
   },
   "source": [
    "## Convert Amount in format of rs 101,00,000 to numericals"
   ]
  },
  {
   "cell_type": "code",
   "execution_count": null,
   "metadata": {
    "id": "qStLAZjXHEAZ"
   },
   "outputs": [],
   "source": []
  },
  {
   "cell_type": "code",
   "execution_count": 43,
   "metadata": {
    "id": "zCz423SB3h2P"
   },
   "outputs": [],
   "source": [
    "temp=[]\n",
    "for item in df['Amount']:\n",
    "  x=item[2:-3]\n",
    "  x=x.replace(\",\",\"\")\n",
    "  temp.append(int(x))"
   ]
  },
  {
   "cell_type": "code",
   "execution_count": 44,
   "metadata": {
    "id": "bc40w6PD4Mai"
   },
   "outputs": [],
   "source": [
    "df['Amount']=temp"
   ]
  },
  {
   "cell_type": "code",
   "execution_count": 45,
   "metadata": {
    "colab": {
     "base_uri": "https://localhost:8080/"
    },
    "id": "vTxwoxfn1igf",
    "outputId": "fa03a3c9-4c94-4017-da85-b74c9570371e"
   },
   "outputs": [
    {
     "data": {
      "text/plain": [
       "count    9.249100e+04\n",
       "mean     2.301170e+11\n",
       "std      1.307409e+13\n",
       "min      0.000000e+00\n",
       "25%      1.010000e+02\n",
       "50%      1.010000e+02\n",
       "75%      9.000000e+04\n",
       "max      9.821101e+14\n",
       "Name: Amount, dtype: float64"
      ]
     },
     "execution_count": 45,
     "metadata": {},
     "output_type": "execute_result"
    }
   ],
   "source": [
    "df['Amount'].describe()\n"
   ]
  },
  {
   "cell_type": "markdown",
   "metadata": {
    "id": "TGE8NtiyHbvg"
   },
   "source": [
    "## Here we are visualizing the relation between the products and the sources.We can clearly see that all the Small business (SB) loans are brought by bank branches and web. Most of the agricultural loans are also brought by bank branches"
   ]
  },
  {
   "cell_type": "code",
   "execution_count": null,
   "metadata": {
    "id": "VS9GXZtbHXWM"
   },
   "outputs": [],
   "source": []
  },
  {
   "cell_type": "code",
   "execution_count": 46,
   "metadata": {
    "colab": {
     "base_uri": "https://localhost:8080/",
     "height": 568
    },
    "id": "1Ng13BPi1p6v",
    "outputId": "9f896fdb-4c11-464f-9545-76265d65726a"
   },
   "outputs": [
    {
     "data": {
      "text/plain": [
       "<AxesSubplot:xlabel='Source', ylabel='Product'>"
      ]
     },
     "execution_count": 46,
     "metadata": {},
     "output_type": "execute_result"
    },
    {
     "data": {
      "image/png": "[encoded data removed]",
      "text/plain": [
       "<Figure size 640x480 with 2 Axes>"
      ]
     },
     "metadata": {},
     "output_type": "display_data"
    }
   ],
   "source": [
    "matrix=matrix = pd.crosstab(df['Product'], df['Source'])\n",
    "sns.heatmap(matrix)"
   ]
  },
  {
   "cell_type": "code",
   "execution_count": 47,
   "metadata": {
    "colab": {
     "base_uri": "https://localhost:8080/"
    },
    "id": "NtmfXWoh8X8q",
    "outputId": "7df692e7-3ed0-406a-ac9f-84bc84fdbb7e"
   },
   "outputs": [
    {
     "data": {
      "text/plain": [
       "Index(['Product Category', 'Product', 'Sub Product', 'Amount', 'Status Code',\n",
       "       'Source', 'Assigned To', 'Branch', 'Last', 'Lead NBG', 'Lead Zone',\n",
       "       'STP', 'Created By', 'Dropout'],\n",
       "      dtype='object')"
      ]
     },
     "execution_count": 47,
     "metadata": {},
     "output_type": "execute_result"
    }
   ],
   "source": [
    "df.columns"
   ]
  },
  {
   "cell_type": "code",
   "execution_count": 48,
   "metadata": {
    "colab": {
     "base_uri": "https://localhost:8080/"
    },
    "id": "OQQqnpxv26u5",
    "outputId": "e3cf0edb-c054-4093-97a6-89e253cb4260"
   },
   "outputs": [
    {
     "data": {
      "text/plain": [
       "No    92491\n",
       "Name: Dropout, dtype: int64"
      ]
     },
     "execution_count": 48,
     "metadata": {},
     "output_type": "execute_result"
    }
   ],
   "source": [
    "df['Dropout'].value_counts()"
   ]
  },
  {
   "cell_type": "code",
   "execution_count": 49,
   "metadata": {
    "id": "p_33uPQq8brV"
   },
   "outputs": [],
   "source": [
    "df=df.drop(['Dropout'],axis=1)"
   ]
  },
  {
   "cell_type": "code",
   "execution_count": 50,
   "metadata": {
    "colab": {
     "base_uri": "https://localhost:8080/"
    },
    "id": "RWUS0adh8vNq",
    "outputId": "33ae63e7-e67e-47d5-cc5f-62a1eacffd4a"
   },
   "outputs": [
    {
     "data": {
      "text/plain": [
       "Resource Mobilization    47985\n",
       "Agriculture              16353\n",
       "MSME                     12535\n",
       "Retail                   10016\n",
       "Credit Card               4969\n",
       "GBD                        633\n",
       "Name: Product Category, dtype: int64"
      ]
     },
     "execution_count": 50,
     "metadata": {},
     "output_type": "execute_result"
    }
   ],
   "source": [
    "df['Product Category'].value_counts()"
   ]
  },
  {
   "cell_type": "markdown",
   "metadata": {
    "id": "UQ2kKcoCIB1e"
   },
   "source": [
    "## here we can see what all products belong to a particular product category"
   ]
  },
  {
   "cell_type": "code",
   "execution_count": null,
   "metadata": {
    "id": "v72QxQrbH_kn"
   },
   "outputs": [],
   "source": []
  },
  {
   "cell_type": "code",
   "execution_count": 51,
   "metadata": {
    "colab": {
     "base_uri": "https://localhost:8080/",
     "height": 604
    },
    "id": "C7WYke3i81SQ",
    "outputId": "4eeaed87-8cee-4281-9340-fb972a6ed27d"
   },
   "outputs": [
    {
     "data": {
      "text/plain": [
       "<AxesSubplot:xlabel='Product Category', ylabel='Product'>"
      ]
     },
     "execution_count": 51,
     "metadata": {},
     "output_type": "execute_result"
    },
    {
     "data": {
      "image/png": "[encoded data removed]",
      "text/plain": [
       "<Figure size 640x480 with 2 Axes>"
      ]
     },
     "metadata": {},
     "output_type": "display_data"
    }
   ],
   "source": [
    "matrix=matrix = pd.crosstab(df['Product'], df['Product Category'])\n",
    "sns.heatmap(matrix, cmap='coolwarm')"
   ]
  },
  {
   "cell_type": "code",
   "execution_count": 52,
   "metadata": {
    "colab": {
     "base_uri": "https://localhost:8080/"
    },
    "id": "P9n8D3Wa92Ag",
    "outputId": "661c2bf6-6f4c-4210-d399-a173b827bca3"
   },
   "outputs": [
    {
     "data": {
      "text/plain": [
       "0              NBG - SOUTH II\n",
       "1                NBG- GUJARAT\n",
       "7                NBG- GUJARAT\n",
       "9              NBG -JHARKHAND\n",
       "12             NBG - SOUTH II\n",
       "                 ...         \n",
       "134750          NBG - WEST -I\n",
       "134751        NBG - NEW DELHI\n",
       "134752    NBG - UTTAR PRADESH\n",
       "134754             NBG ODISHA\n",
       "134755              NBG MP&CG\n",
       "Name: Lead NBG, Length: 92491, dtype: object"
      ]
     },
     "execution_count": 52,
     "metadata": {},
     "output_type": "execute_result"
    }
   ],
   "source": [
    "df['Lead NBG']"
   ]
  },
  {
   "cell_type": "code",
   "execution_count": 53,
   "metadata": {
    "colab": {
     "base_uri": "https://localhost:8080/",
     "height": 728
    },
    "id": "vjPi6uOb_d4K",
    "outputId": "9b060a3f-8b67-4d58-a7d3-b5eec69de7ca"
   },
   "outputs": [
    {
     "data": {
      "text/html": [
       "<div>\n",
       "<style scoped>\n",
       "    .dataframe tbody tr th:only-of-type {\n",
       "        vertical-align: middle;\n",
       "    }\n",
       "\n",
       "    .dataframe tbody tr th {\n",
       "        vertical-align: top;\n",
       "    }\n",
       "\n",
       "    .dataframe thead th {\n",
       "        text-align: right;\n",
       "    }\n",
       "</style>\n",
       "<table border=\"1\" class=\"dataframe\">\n",
       "  <thead>\n",
       "    <tr style=\"text-align: right;\">\n",
       "      <th></th>\n",
       "      <th>Product Category</th>\n",
       "      <th>Product</th>\n",
       "      <th>Sub Product</th>\n",
       "      <th>Amount</th>\n",
       "      <th>Status Code</th>\n",
       "      <th>Source</th>\n",
       "      <th>Assigned To</th>\n",
       "      <th>Branch</th>\n",
       "      <th>Last</th>\n",
       "      <th>Lead NBG</th>\n",
       "      <th>Lead Zone</th>\n",
       "      <th>STP</th>\n",
       "      <th>Created By</th>\n",
       "    </tr>\n",
       "  </thead>\n",
       "  <tbody>\n",
       "    <tr>\n",
       "      <th>0</th>\n",
       "      <td>MSME</td>\n",
       "      <td>PMMY Kishore loan (Above 50000 to up to 5.00 l...</td>\n",
       "      <td>Kishore Loan (Rs. 50000 to upto 5 Lacs)</td>\n",
       "      <td>101</td>\n",
       "      <td>New Lead</td>\n",
       "      <td>EPL Branch</td>\n",
       "      <td>MADHURAWADA</td>\n",
       "      <td>MADHURAWADA</td>\n",
       "      <td>4/19/2023</td>\n",
       "      <td>NBG - SOUTH II</td>\n",
       "      <td>VISAKHAPATNAM ZONAL OFFICE</td>\n",
       "      <td>Yes</td>\n",
       "      <td>webservice</td>\n",
       "    </tr>\n",
       "    <tr>\n",
       "      <th>1</th>\n",
       "      <td>Retail</td>\n",
       "      <td>PERSONAL LOAN</td>\n",
       "      <td>PERSONAL LOAN</td>\n",
       "      <td>300000</td>\n",
       "      <td>New Lead</td>\n",
       "      <td>Website</td>\n",
       "      <td>Admin</td>\n",
       "      <td>MOTERA</td>\n",
       "      <td>4/19/2023</td>\n",
       "      <td>NBG- GUJARAT</td>\n",
       "      <td>AHMEDABAD ZONAL OFFICE</td>\n",
       "      <td>Yes</td>\n",
       "      <td>webservice</td>\n",
       "    </tr>\n",
       "    <tr>\n",
       "      <th>7</th>\n",
       "      <td>MSME</td>\n",
       "      <td>PMMY Kishore loan (Above 50000 to up to 5.00 l...</td>\n",
       "      <td>Kishore Loan (Rs. 50000 to upto 5 Lacs)</td>\n",
       "      <td>101</td>\n",
       "      <td>New Lead</td>\n",
       "      <td>EPL Branch</td>\n",
       "      <td>NEW CLOTH MARKET</td>\n",
       "      <td>NEW CLOTH MARKET</td>\n",
       "      <td>4/19/2023</td>\n",
       "      <td>NBG- GUJARAT</td>\n",
       "      <td>AHMEDABAD ZONAL OFFICE</td>\n",
       "      <td>Yes</td>\n",
       "      <td>webservice</td>\n",
       "    </tr>\n",
       "    <tr>\n",
       "      <th>9</th>\n",
       "      <td>MSME</td>\n",
       "      <td>PMMY Tarun Loan (Above 5 lakhs to up to 10 lakhs)</td>\n",
       "      <td>Tarun Loans(5 Lacs to 10 Lacs)</td>\n",
       "      <td>101</td>\n",
       "      <td>New Lead</td>\n",
       "      <td>EPL Branch</td>\n",
       "      <td>BERO</td>\n",
       "      <td>BERO</td>\n",
       "      <td>4/19/2023</td>\n",
       "      <td>NBG -JHARKHAND</td>\n",
       "      <td>RANCHI  ZONAL OFFICE</td>\n",
       "      <td>Yes</td>\n",
       "      <td>webservice</td>\n",
       "    </tr>\n",
       "    <tr>\n",
       "      <th>12</th>\n",
       "      <td>Agriculture</td>\n",
       "      <td>Agriculture Gold Loan</td>\n",
       "      <td>Gold Agriculture Multipurpose Loan</td>\n",
       "      <td>574000</td>\n",
       "      <td>New Lead</td>\n",
       "      <td>EPL Branch</td>\n",
       "      <td>REPALLE</td>\n",
       "      <td>REPALLE</td>\n",
       "      <td>4/19/2023</td>\n",
       "      <td>NBG - SOUTH II</td>\n",
       "      <td>VIJAYAWADA ZONAL OFFICE</td>\n",
       "      <td>Yes</td>\n",
       "      <td>webservice</td>\n",
       "    </tr>\n",
       "    <tr>\n",
       "      <th>...</th>\n",
       "      <td>...</td>\n",
       "      <td>...</td>\n",
       "      <td>...</td>\n",
       "      <td>...</td>\n",
       "      <td>...</td>\n",
       "      <td>...</td>\n",
       "      <td>...</td>\n",
       "      <td>...</td>\n",
       "      <td>...</td>\n",
       "      <td>...</td>\n",
       "      <td>...</td>\n",
       "      <td>...</td>\n",
       "      <td>...</td>\n",
       "    </tr>\n",
       "    <tr>\n",
       "      <th>134750</th>\n",
       "      <td>Retail</td>\n",
       "      <td>PERSONAL LOAN</td>\n",
       "      <td>PERSONAL LOAN</td>\n",
       "      <td>200000</td>\n",
       "      <td>New Lead</td>\n",
       "      <td>Website</td>\n",
       "      <td>Admin</td>\n",
       "      <td>MANDVI</td>\n",
       "      <td>3/1/2023</td>\n",
       "      <td>NBG - WEST -I</td>\n",
       "      <td>MUMBAI SOUTH  ZONAL OFFICE</td>\n",
       "      <td>Yes</td>\n",
       "      <td>Admin</td>\n",
       "    </tr>\n",
       "    <tr>\n",
       "      <th>134751</th>\n",
       "      <td>Resource Mobilization</td>\n",
       "      <td>SB</td>\n",
       "      <td>General</td>\n",
       "      <td>100</td>\n",
       "      <td>Converted</td>\n",
       "      <td>EPL Web</td>\n",
       "      <td>Admin</td>\n",
       "      <td>BHAWANI MANDI</td>\n",
       "      <td>3/1/2023</td>\n",
       "      <td>NBG - NEW DELHI</td>\n",
       "      <td>JODHPUR  ZONAL OFFICE</td>\n",
       "      <td>Yes</td>\n",
       "      <td>webservice</td>\n",
       "    </tr>\n",
       "    <tr>\n",
       "      <th>134752</th>\n",
       "      <td>Credit Card</td>\n",
       "      <td>Credit Card</td>\n",
       "      <td>Visa Gold International Credit Card</td>\n",
       "      <td>1</td>\n",
       "      <td>Not Interested</td>\n",
       "      <td>Website</td>\n",
       "      <td>ALIGARH</td>\n",
       "      <td>ALIGARH</td>\n",
       "      <td>3/2/2023</td>\n",
       "      <td>NBG - UTTAR PRADESH</td>\n",
       "      <td>AGRA ZONAL OFFICE</td>\n",
       "      <td>No</td>\n",
       "      <td>Admin</td>\n",
       "    </tr>\n",
       "    <tr>\n",
       "      <th>134754</th>\n",
       "      <td>Resource Mobilization</td>\n",
       "      <td>SB</td>\n",
       "      <td>General</td>\n",
       "      <td>100</td>\n",
       "      <td>Converted</td>\n",
       "      <td>EPL Web</td>\n",
       "      <td>Admin</td>\n",
       "      <td>JEYPORE</td>\n",
       "      <td>3/1/2023</td>\n",
       "      <td>NBG ODISHA</td>\n",
       "      <td>SAMBALPUR ZONAL OFFICE</td>\n",
       "      <td>Yes</td>\n",
       "      <td>webservice</td>\n",
       "    </tr>\n",
       "    <tr>\n",
       "      <th>134755</th>\n",
       "      <td>Resource Mobilization</td>\n",
       "      <td>SB</td>\n",
       "      <td>General</td>\n",
       "      <td>100</td>\n",
       "      <td>Converted</td>\n",
       "      <td>EPL Web</td>\n",
       "      <td>Admin</td>\n",
       "      <td>TILDA NEORA</td>\n",
       "      <td>3/1/2023</td>\n",
       "      <td>NBG MP&amp;CG</td>\n",
       "      <td>RAIPUR  ZONAL OFFICE</td>\n",
       "      <td>Yes</td>\n",
       "      <td>webservice</td>\n",
       "    </tr>\n",
       "  </tbody>\n",
       "</table>\n",
       "<p>92491 rows × 13 columns</p>\n",
       "</div>"
      ],
      "text/plain": [
       "             Product Category  \\\n",
       "0                        MSME   \n",
       "1                      Retail   \n",
       "7                        MSME   \n",
       "9                        MSME   \n",
       "12                Agriculture   \n",
       "...                       ...   \n",
       "134750                 Retail   \n",
       "134751  Resource Mobilization   \n",
       "134752            Credit Card   \n",
       "134754  Resource Mobilization   \n",
       "134755  Resource Mobilization   \n",
       "\n",
       "                                                  Product  \\\n",
       "0       PMMY Kishore loan (Above 50000 to up to 5.00 l...   \n",
       "1                                           PERSONAL LOAN   \n",
       "7       PMMY Kishore loan (Above 50000 to up to 5.00 l...   \n",
       "9       PMMY Tarun Loan (Above 5 lakhs to up to 10 lakhs)   \n",
       "12                                  Agriculture Gold Loan   \n",
       "...                                                   ...   \n",
       "134750                                      PERSONAL LOAN   \n",
       "134751                                                 SB   \n",
       "134752                                        Credit Card   \n",
       "134754                                                 SB   \n",
       "134755                                                 SB   \n",
       "\n",
       "                                    Sub Product  Amount     Status Code  \\\n",
       "0       Kishore Loan (Rs. 50000 to upto 5 Lacs)     101        New Lead   \n",
       "1                                 PERSONAL LOAN  300000        New Lead   \n",
       "7       Kishore Loan (Rs. 50000 to upto 5 Lacs)     101        New Lead   \n",
       "9                Tarun Loans(5 Lacs to 10 Lacs)     101        New Lead   \n",
       "12           Gold Agriculture Multipurpose Loan  574000        New Lead   \n",
       "...                                         ...     ...             ...   \n",
       "134750                            PERSONAL LOAN  200000        New Lead   \n",
       "134751                                  General     100       Converted   \n",
       "134752      Visa Gold International Credit Card       1  Not Interested   \n",
       "134754                                  General     100       Converted   \n",
       "134755                                  General     100       Converted   \n",
       "\n",
       "            Source       Assigned To            Branch       Last  \\\n",
       "0       EPL Branch       MADHURAWADA       MADHURAWADA  4/19/2023   \n",
       "1          Website             Admin            MOTERA  4/19/2023   \n",
       "7       EPL Branch  NEW CLOTH MARKET  NEW CLOTH MARKET  4/19/2023   \n",
       "9       EPL Branch              BERO              BERO  4/19/2023   \n",
       "12      EPL Branch           REPALLE           REPALLE  4/19/2023   \n",
       "...            ...               ...               ...        ...   \n",
       "134750     Website             Admin            MANDVI   3/1/2023   \n",
       "134751     EPL Web             Admin     BHAWANI MANDI   3/1/2023   \n",
       "134752     Website           ALIGARH           ALIGARH   3/2/2023   \n",
       "134754     EPL Web             Admin           JEYPORE   3/1/2023   \n",
       "134755     EPL Web             Admin       TILDA NEORA   3/1/2023   \n",
       "\n",
       "                   Lead NBG                   Lead Zone  STP  Created By  \n",
       "0            NBG - SOUTH II  VISAKHAPATNAM ZONAL OFFICE  Yes  webservice  \n",
       "1              NBG- GUJARAT      AHMEDABAD ZONAL OFFICE  Yes  webservice  \n",
       "7              NBG- GUJARAT      AHMEDABAD ZONAL OFFICE  Yes  webservice  \n",
       "9            NBG -JHARKHAND        RANCHI  ZONAL OFFICE  Yes  webservice  \n",
       "12           NBG - SOUTH II     VIJAYAWADA ZONAL OFFICE  Yes  webservice  \n",
       "...                     ...                         ...  ...         ...  \n",
       "134750        NBG - WEST -I  MUMBAI SOUTH  ZONAL OFFICE  Yes       Admin  \n",
       "134751      NBG - NEW DELHI       JODHPUR  ZONAL OFFICE  Yes  webservice  \n",
       "134752  NBG - UTTAR PRADESH           AGRA ZONAL OFFICE   No       Admin  \n",
       "134754           NBG ODISHA      SAMBALPUR ZONAL OFFICE  Yes  webservice  \n",
       "134755            NBG MP&CG        RAIPUR  ZONAL OFFICE  Yes  webservice  \n",
       "\n",
       "[92491 rows x 13 columns]"
      ]
     },
     "execution_count": 53,
     "metadata": {},
     "output_type": "execute_result"
    }
   ],
   "source": [
    "df"
   ]
  },
  {
   "cell_type": "code",
   "execution_count": 54,
   "metadata": {
    "colab": {
     "base_uri": "https://localhost:8080/"
    },
    "id": "GNsYHYdvAQmx",
    "outputId": "4d6deaf6-b128-4478-d5ee-75a4d3bfb7ae"
   },
   "outputs": [
    {
     "data": {
      "text/plain": [
       "Index(['Product Category', 'Product', 'Sub Product', 'Amount', 'Status Code',\n",
       "       'Source', 'Assigned To', 'Branch', 'Last', 'Lead NBG', 'Lead Zone',\n",
       "       'STP', 'Created By'],\n",
       "      dtype='object')"
      ]
     },
     "execution_count": 54,
     "metadata": {},
     "output_type": "execute_result"
    }
   ],
   "source": [
    "df.columns"
   ]
  },
  {
   "cell_type": "code",
   "execution_count": 55,
   "metadata": {
    "id": "xhFg38zxAGkH"
   },
   "outputs": [],
   "source": [
    "df=df.drop(['Sub Product','Assigned To','STP', 'Created By'],axis=1)"
   ]
  },
  {
   "cell_type": "code",
   "execution_count": 56,
   "metadata": {
    "colab": {
     "base_uri": "https://localhost:8080/",
     "height": 606
    },
    "id": "uRUinQE2ApPq",
    "outputId": "846df083-59cf-4c3b-8b6e-9dbbc02a9945"
   },
   "outputs": [
    {
     "data": {
      "text/html": [
       "<div>\n",
       "<style scoped>\n",
       "    .dataframe tbody tr th:only-of-type {\n",
       "        vertical-align: middle;\n",
       "    }\n",
       "\n",
       "    .dataframe tbody tr th {\n",
       "        vertical-align: top;\n",
       "    }\n",
       "\n",
       "    .dataframe thead th {\n",
       "        text-align: right;\n",
       "    }\n",
       "</style>\n",
       "<table border=\"1\" class=\"dataframe\">\n",
       "  <thead>\n",
       "    <tr style=\"text-align: right;\">\n",
       "      <th></th>\n",
       "      <th>Product Category</th>\n",
       "      <th>Product</th>\n",
       "      <th>Amount</th>\n",
       "      <th>Status Code</th>\n",
       "      <th>Source</th>\n",
       "      <th>Branch</th>\n",
       "      <th>Last</th>\n",
       "      <th>Lead NBG</th>\n",
       "      <th>Lead Zone</th>\n",
       "    </tr>\n",
       "  </thead>\n",
       "  <tbody>\n",
       "    <tr>\n",
       "      <th>0</th>\n",
       "      <td>MSME</td>\n",
       "      <td>PMMY Kishore loan (Above 50000 to up to 5.00 l...</td>\n",
       "      <td>101</td>\n",
       "      <td>New Lead</td>\n",
       "      <td>EPL Branch</td>\n",
       "      <td>MADHURAWADA</td>\n",
       "      <td>4/19/2023</td>\n",
       "      <td>NBG - SOUTH II</td>\n",
       "      <td>VISAKHAPATNAM ZONAL OFFICE</td>\n",
       "    </tr>\n",
       "    <tr>\n",
       "      <th>1</th>\n",
       "      <td>Retail</td>\n",
       "      <td>PERSONAL LOAN</td>\n",
       "      <td>300000</td>\n",
       "      <td>New Lead</td>\n",
       "      <td>Website</td>\n",
       "      <td>MOTERA</td>\n",
       "      <td>4/19/2023</td>\n",
       "      <td>NBG- GUJARAT</td>\n",
       "      <td>AHMEDABAD ZONAL OFFICE</td>\n",
       "    </tr>\n",
       "    <tr>\n",
       "      <th>7</th>\n",
       "      <td>MSME</td>\n",
       "      <td>PMMY Kishore loan (Above 50000 to up to 5.00 l...</td>\n",
       "      <td>101</td>\n",
       "      <td>New Lead</td>\n",
       "      <td>EPL Branch</td>\n",
       "      <td>NEW CLOTH MARKET</td>\n",
       "      <td>4/19/2023</td>\n",
       "      <td>NBG- GUJARAT</td>\n",
       "      <td>AHMEDABAD ZONAL OFFICE</td>\n",
       "    </tr>\n",
       "    <tr>\n",
       "      <th>9</th>\n",
       "      <td>MSME</td>\n",
       "      <td>PMMY Tarun Loan (Above 5 lakhs to up to 10 lakhs)</td>\n",
       "      <td>101</td>\n",
       "      <td>New Lead</td>\n",
       "      <td>EPL Branch</td>\n",
       "      <td>BERO</td>\n",
       "      <td>4/19/2023</td>\n",
       "      <td>NBG -JHARKHAND</td>\n",
       "      <td>RANCHI  ZONAL OFFICE</td>\n",
       "    </tr>\n",
       "    <tr>\n",
       "      <th>12</th>\n",
       "      <td>Agriculture</td>\n",
       "      <td>Agriculture Gold Loan</td>\n",
       "      <td>574000</td>\n",
       "      <td>New Lead</td>\n",
       "      <td>EPL Branch</td>\n",
       "      <td>REPALLE</td>\n",
       "      <td>4/19/2023</td>\n",
       "      <td>NBG - SOUTH II</td>\n",
       "      <td>VIJAYAWADA ZONAL OFFICE</td>\n",
       "    </tr>\n",
       "    <tr>\n",
       "      <th>...</th>\n",
       "      <td>...</td>\n",
       "      <td>...</td>\n",
       "      <td>...</td>\n",
       "      <td>...</td>\n",
       "      <td>...</td>\n",
       "      <td>...</td>\n",
       "      <td>...</td>\n",
       "      <td>...</td>\n",
       "      <td>...</td>\n",
       "    </tr>\n",
       "    <tr>\n",
       "      <th>134750</th>\n",
       "      <td>Retail</td>\n",
       "      <td>PERSONAL LOAN</td>\n",
       "      <td>200000</td>\n",
       "      <td>New Lead</td>\n",
       "      <td>Website</td>\n",
       "      <td>MANDVI</td>\n",
       "      <td>3/1/2023</td>\n",
       "      <td>NBG - WEST -I</td>\n",
       "      <td>MUMBAI SOUTH  ZONAL OFFICE</td>\n",
       "    </tr>\n",
       "    <tr>\n",
       "      <th>134751</th>\n",
       "      <td>Resource Mobilization</td>\n",
       "      <td>SB</td>\n",
       "      <td>100</td>\n",
       "      <td>Converted</td>\n",
       "      <td>EPL Web</td>\n",
       "      <td>BHAWANI MANDI</td>\n",
       "      <td>3/1/2023</td>\n",
       "      <td>NBG - NEW DELHI</td>\n",
       "      <td>JODHPUR  ZONAL OFFICE</td>\n",
       "    </tr>\n",
       "    <tr>\n",
       "      <th>134752</th>\n",
       "      <td>Credit Card</td>\n",
       "      <td>Credit Card</td>\n",
       "      <td>1</td>\n",
       "      <td>Not Interested</td>\n",
       "      <td>Website</td>\n",
       "      <td>ALIGARH</td>\n",
       "      <td>3/2/2023</td>\n",
       "      <td>NBG - UTTAR PRADESH</td>\n",
       "      <td>AGRA ZONAL OFFICE</td>\n",
       "    </tr>\n",
       "    <tr>\n",
       "      <th>134754</th>\n",
       "      <td>Resource Mobilization</td>\n",
       "      <td>SB</td>\n",
       "      <td>100</td>\n",
       "      <td>Converted</td>\n",
       "      <td>EPL Web</td>\n",
       "      <td>JEYPORE</td>\n",
       "      <td>3/1/2023</td>\n",
       "      <td>NBG ODISHA</td>\n",
       "      <td>SAMBALPUR ZONAL OFFICE</td>\n",
       "    </tr>\n",
       "    <tr>\n",
       "      <th>134755</th>\n",
       "      <td>Resource Mobilization</td>\n",
       "      <td>SB</td>\n",
       "      <td>100</td>\n",
       "      <td>Converted</td>\n",
       "      <td>EPL Web</td>\n",
       "      <td>TILDA NEORA</td>\n",
       "      <td>3/1/2023</td>\n",
       "      <td>NBG MP&amp;CG</td>\n",
       "      <td>RAIPUR  ZONAL OFFICE</td>\n",
       "    </tr>\n",
       "  </tbody>\n",
       "</table>\n",
       "<p>92491 rows × 9 columns</p>\n",
       "</div>"
      ],
      "text/plain": [
       "             Product Category  \\\n",
       "0                        MSME   \n",
       "1                      Retail   \n",
       "7                        MSME   \n",
       "9                        MSME   \n",
       "12                Agriculture   \n",
       "...                       ...   \n",
       "134750                 Retail   \n",
       "134751  Resource Mobilization   \n",
       "134752            Credit Card   \n",
       "134754  Resource Mobilization   \n",
       "134755  Resource Mobilization   \n",
       "\n",
       "                                                  Product  Amount  \\\n",
       "0       PMMY Kishore loan (Above 50000 to up to 5.00 l...     101   \n",
       "1                                           PERSONAL LOAN  300000   \n",
       "7       PMMY Kishore loan (Above 50000 to up to 5.00 l...     101   \n",
       "9       PMMY Tarun Loan (Above 5 lakhs to up to 10 lakhs)     101   \n",
       "12                                  Agriculture Gold Loan  574000   \n",
       "...                                                   ...     ...   \n",
       "134750                                      PERSONAL LOAN  200000   \n",
       "134751                                                 SB     100   \n",
       "134752                                        Credit Card       1   \n",
       "134754                                                 SB     100   \n",
       "134755                                                 SB     100   \n",
       "\n",
       "           Status Code      Source            Branch       Last  \\\n",
       "0             New Lead  EPL Branch       MADHURAWADA  4/19/2023   \n",
       "1             New Lead     Website            MOTERA  4/19/2023   \n",
       "7             New Lead  EPL Branch  NEW CLOTH MARKET  4/19/2023   \n",
       "9             New Lead  EPL Branch              BERO  4/19/2023   \n",
       "12            New Lead  EPL Branch           REPALLE  4/19/2023   \n",
       "...                ...         ...               ...        ...   \n",
       "134750        New Lead     Website            MANDVI   3/1/2023   \n",
       "134751       Converted     EPL Web     BHAWANI MANDI   3/1/2023   \n",
       "134752  Not Interested     Website           ALIGARH   3/2/2023   \n",
       "134754       Converted     EPL Web           JEYPORE   3/1/2023   \n",
       "134755       Converted     EPL Web       TILDA NEORA   3/1/2023   \n",
       "\n",
       "                   Lead NBG                   Lead Zone  \n",
       "0            NBG - SOUTH II  VISAKHAPATNAM ZONAL OFFICE  \n",
       "1              NBG- GUJARAT      AHMEDABAD ZONAL OFFICE  \n",
       "7              NBG- GUJARAT      AHMEDABAD ZONAL OFFICE  \n",
       "9            NBG -JHARKHAND        RANCHI  ZONAL OFFICE  \n",
       "12           NBG - SOUTH II     VIJAYAWADA ZONAL OFFICE  \n",
       "...                     ...                         ...  \n",
       "134750        NBG - WEST -I  MUMBAI SOUTH  ZONAL OFFICE  \n",
       "134751      NBG - NEW DELHI       JODHPUR  ZONAL OFFICE  \n",
       "134752  NBG - UTTAR PRADESH           AGRA ZONAL OFFICE  \n",
       "134754           NBG ODISHA      SAMBALPUR ZONAL OFFICE  \n",
       "134755            NBG MP&CG        RAIPUR  ZONAL OFFICE  \n",
       "\n",
       "[92491 rows x 9 columns]"
      ]
     },
     "execution_count": 56,
     "metadata": {},
     "output_type": "execute_result"
    }
   ],
   "source": [
    "df"
   ]
  },
  {
   "cell_type": "code",
   "execution_count": 57,
   "metadata": {
    "id": "-IqWDmjXAsci"
   },
   "outputs": [],
   "source": [
    "temp=pd.to_datetime(df['Last'],format='%m/%d/%Y')"
   ]
  },
  {
   "cell_type": "code",
   "execution_count": 58,
   "metadata": {
    "id": "oRKd-mOeB2Rt"
   },
   "outputs": [],
   "source": [
    "df['Month']=temp.dt.month\n",
    "df['Year']=temp.dt.year\n",
    "df['Day']=temp.dt.day"
   ]
  },
  {
   "cell_type": "code",
   "execution_count": 59,
   "metadata": {
    "colab": {
     "base_uri": "https://localhost:8080/",
     "height": 658
    },
    "id": "O_IIJBZLCU2G",
    "outputId": "52863b81-9164-4b82-a9d1-81e2350bc7bc"
   },
   "outputs": [
    {
     "data": {
      "text/html": [
       "<div>\n",
       "<style scoped>\n",
       "    .dataframe tbody tr th:only-of-type {\n",
       "        vertical-align: middle;\n",
       "    }\n",
       "\n",
       "    .dataframe tbody tr th {\n",
       "        vertical-align: top;\n",
       "    }\n",
       "\n",
       "    .dataframe thead th {\n",
       "        text-align: right;\n",
       "    }\n",
       "</style>\n",
       "<table border=\"1\" class=\"dataframe\">\n",
       "  <thead>\n",
       "    <tr style=\"text-align: right;\">\n",
       "      <th></th>\n",
       "      <th>Product Category</th>\n",
       "      <th>Product</th>\n",
       "      <th>Amount</th>\n",
       "      <th>Status Code</th>\n",
       "      <th>Source</th>\n",
       "      <th>Branch</th>\n",
       "      <th>Last</th>\n",
       "      <th>Lead NBG</th>\n",
       "      <th>Lead Zone</th>\n",
       "      <th>Month</th>\n",
       "      <th>Year</th>\n",
       "      <th>Day</th>\n",
       "    </tr>\n",
       "  </thead>\n",
       "  <tbody>\n",
       "    <tr>\n",
       "      <th>0</th>\n",
       "      <td>MSME</td>\n",
       "      <td>PMMY Kishore loan (Above 50000 to up to 5.00 l...</td>\n",
       "      <td>101</td>\n",
       "      <td>New Lead</td>\n",
       "      <td>EPL Branch</td>\n",
       "      <td>MADHURAWADA</td>\n",
       "      <td>4/19/2023</td>\n",
       "      <td>NBG - SOUTH II</td>\n",
       "      <td>VISAKHAPATNAM ZONAL OFFICE</td>\n",
       "      <td>4</td>\n",
       "      <td>2023</td>\n",
       "      <td>19</td>\n",
       "    </tr>\n",
       "    <tr>\n",
       "      <th>1</th>\n",
       "      <td>Retail</td>\n",
       "      <td>PERSONAL LOAN</td>\n",
       "      <td>300000</td>\n",
       "      <td>New Lead</td>\n",
       "      <td>Website</td>\n",
       "      <td>MOTERA</td>\n",
       "      <td>4/19/2023</td>\n",
       "      <td>NBG- GUJARAT</td>\n",
       "      <td>AHMEDABAD ZONAL OFFICE</td>\n",
       "      <td>4</td>\n",
       "      <td>2023</td>\n",
       "      <td>19</td>\n",
       "    </tr>\n",
       "    <tr>\n",
       "      <th>7</th>\n",
       "      <td>MSME</td>\n",
       "      <td>PMMY Kishore loan (Above 50000 to up to 5.00 l...</td>\n",
       "      <td>101</td>\n",
       "      <td>New Lead</td>\n",
       "      <td>EPL Branch</td>\n",
       "      <td>NEW CLOTH MARKET</td>\n",
       "      <td>4/19/2023</td>\n",
       "      <td>NBG- GUJARAT</td>\n",
       "      <td>AHMEDABAD ZONAL OFFICE</td>\n",
       "      <td>4</td>\n",
       "      <td>2023</td>\n",
       "      <td>19</td>\n",
       "    </tr>\n",
       "    <tr>\n",
       "      <th>9</th>\n",
       "      <td>MSME</td>\n",
       "      <td>PMMY Tarun Loan (Above 5 lakhs to up to 10 lakhs)</td>\n",
       "      <td>101</td>\n",
       "      <td>New Lead</td>\n",
       "      <td>EPL Branch</td>\n",
       "      <td>BERO</td>\n",
       "      <td>4/19/2023</td>\n",
       "      <td>NBG -JHARKHAND</td>\n",
       "      <td>RANCHI  ZONAL OFFICE</td>\n",
       "      <td>4</td>\n",
       "      <td>2023</td>\n",
       "      <td>19</td>\n",
       "    </tr>\n",
       "    <tr>\n",
       "      <th>12</th>\n",
       "      <td>Agriculture</td>\n",
       "      <td>Agriculture Gold Loan</td>\n",
       "      <td>574000</td>\n",
       "      <td>New Lead</td>\n",
       "      <td>EPL Branch</td>\n",
       "      <td>REPALLE</td>\n",
       "      <td>4/19/2023</td>\n",
       "      <td>NBG - SOUTH II</td>\n",
       "      <td>VIJAYAWADA ZONAL OFFICE</td>\n",
       "      <td>4</td>\n",
       "      <td>2023</td>\n",
       "      <td>19</td>\n",
       "    </tr>\n",
       "    <tr>\n",
       "      <th>...</th>\n",
       "      <td>...</td>\n",
       "      <td>...</td>\n",
       "      <td>...</td>\n",
       "      <td>...</td>\n",
       "      <td>...</td>\n",
       "      <td>...</td>\n",
       "      <td>...</td>\n",
       "      <td>...</td>\n",
       "      <td>...</td>\n",
       "      <td>...</td>\n",
       "      <td>...</td>\n",
       "      <td>...</td>\n",
       "    </tr>\n",
       "    <tr>\n",
       "      <th>134750</th>\n",
       "      <td>Retail</td>\n",
       "      <td>PERSONAL LOAN</td>\n",
       "      <td>200000</td>\n",
       "      <td>New Lead</td>\n",
       "      <td>Website</td>\n",
       "      <td>MANDVI</td>\n",
       "      <td>3/1/2023</td>\n",
       "      <td>NBG - WEST -I</td>\n",
       "      <td>MUMBAI SOUTH  ZONAL OFFICE</td>\n",
       "      <td>3</td>\n",
       "      <td>2023</td>\n",
       "      <td>1</td>\n",
       "    </tr>\n",
       "    <tr>\n",
       "      <th>134751</th>\n",
       "      <td>Resource Mobilization</td>\n",
       "      <td>SB</td>\n",
       "      <td>100</td>\n",
       "      <td>Converted</td>\n",
       "      <td>EPL Web</td>\n",
       "      <td>BHAWANI MANDI</td>\n",
       "      <td>3/1/2023</td>\n",
       "      <td>NBG - NEW DELHI</td>\n",
       "      <td>JODHPUR  ZONAL OFFICE</td>\n",
       "      <td>3</td>\n",
       "      <td>2023</td>\n",
       "      <td>1</td>\n",
       "    </tr>\n",
       "    <tr>\n",
       "      <th>134752</th>\n",
       "      <td>Credit Card</td>\n",
       "      <td>Credit Card</td>\n",
       "      <td>1</td>\n",
       "      <td>Not Interested</td>\n",
       "      <td>Website</td>\n",
       "      <td>ALIGARH</td>\n",
       "      <td>3/2/2023</td>\n",
       "      <td>NBG - UTTAR PRADESH</td>\n",
       "      <td>AGRA ZONAL OFFICE</td>\n",
       "      <td>3</td>\n",
       "      <td>2023</td>\n",
       "      <td>2</td>\n",
       "    </tr>\n",
       "    <tr>\n",
       "      <th>134754</th>\n",
       "      <td>Resource Mobilization</td>\n",
       "      <td>SB</td>\n",
       "      <td>100</td>\n",
       "      <td>Converted</td>\n",
       "      <td>EPL Web</td>\n",
       "      <td>JEYPORE</td>\n",
       "      <td>3/1/2023</td>\n",
       "      <td>NBG ODISHA</td>\n",
       "      <td>SAMBALPUR ZONAL OFFICE</td>\n",
       "      <td>3</td>\n",
       "      <td>2023</td>\n",
       "      <td>1</td>\n",
       "    </tr>\n",
       "    <tr>\n",
       "      <th>134755</th>\n",
       "      <td>Resource Mobilization</td>\n",
       "      <td>SB</td>\n",
       "      <td>100</td>\n",
       "      <td>Converted</td>\n",
       "      <td>EPL Web</td>\n",
       "      <td>TILDA NEORA</td>\n",
       "      <td>3/1/2023</td>\n",
       "      <td>NBG MP&amp;CG</td>\n",
       "      <td>RAIPUR  ZONAL OFFICE</td>\n",
       "      <td>3</td>\n",
       "      <td>2023</td>\n",
       "      <td>1</td>\n",
       "    </tr>\n",
       "  </tbody>\n",
       "</table>\n",
       "<p>92491 rows × 12 columns</p>\n",
       "</div>"
      ],
      "text/plain": [
       "             Product Category  \\\n",
       "0                        MSME   \n",
       "1                      Retail   \n",
       "7                        MSME   \n",
       "9                        MSME   \n",
       "12                Agriculture   \n",
       "...                       ...   \n",
       "134750                 Retail   \n",
       "134751  Resource Mobilization   \n",
       "134752            Credit Card   \n",
       "134754  Resource Mobilization   \n",
       "134755  Resource Mobilization   \n",
       "\n",
       "                                                  Product  Amount  \\\n",
       "0       PMMY Kishore loan (Above 50000 to up to 5.00 l...     101   \n",
       "1                                           PERSONAL LOAN  300000   \n",
       "7       PMMY Kishore loan (Above 50000 to up to 5.00 l...     101   \n",
       "9       PMMY Tarun Loan (Above 5 lakhs to up to 10 lakhs)     101   \n",
       "12                                  Agriculture Gold Loan  574000   \n",
       "...                                                   ...     ...   \n",
       "134750                                      PERSONAL LOAN  200000   \n",
       "134751                                                 SB     100   \n",
       "134752                                        Credit Card       1   \n",
       "134754                                                 SB     100   \n",
       "134755                                                 SB     100   \n",
       "\n",
       "           Status Code      Source            Branch       Last  \\\n",
       "0             New Lead  EPL Branch       MADHURAWADA  4/19/2023   \n",
       "1             New Lead     Website            MOTERA  4/19/2023   \n",
       "7             New Lead  EPL Branch  NEW CLOTH MARKET  4/19/2023   \n",
       "9             New Lead  EPL Branch              BERO  4/19/2023   \n",
       "12            New Lead  EPL Branch           REPALLE  4/19/2023   \n",
       "...                ...         ...               ...        ...   \n",
       "134750        New Lead     Website            MANDVI   3/1/2023   \n",
       "134751       Converted     EPL Web     BHAWANI MANDI   3/1/2023   \n",
       "134752  Not Interested     Website           ALIGARH   3/2/2023   \n",
       "134754       Converted     EPL Web           JEYPORE   3/1/2023   \n",
       "134755       Converted     EPL Web       TILDA NEORA   3/1/2023   \n",
       "\n",
       "                   Lead NBG                   Lead Zone  Month  Year  Day  \n",
       "0            NBG - SOUTH II  VISAKHAPATNAM ZONAL OFFICE      4  2023   19  \n",
       "1              NBG- GUJARAT      AHMEDABAD ZONAL OFFICE      4  2023   19  \n",
       "7              NBG- GUJARAT      AHMEDABAD ZONAL OFFICE      4  2023   19  \n",
       "9            NBG -JHARKHAND        RANCHI  ZONAL OFFICE      4  2023   19  \n",
       "12           NBG - SOUTH II     VIJAYAWADA ZONAL OFFICE      4  2023   19  \n",
       "...                     ...                         ...    ...   ...  ...  \n",
       "134750        NBG - WEST -I  MUMBAI SOUTH  ZONAL OFFICE      3  2023    1  \n",
       "134751      NBG - NEW DELHI       JODHPUR  ZONAL OFFICE      3  2023    1  \n",
       "134752  NBG - UTTAR PRADESH           AGRA ZONAL OFFICE      3  2023    2  \n",
       "134754           NBG ODISHA      SAMBALPUR ZONAL OFFICE      3  2023    1  \n",
       "134755            NBG MP&CG        RAIPUR  ZONAL OFFICE      3  2023    1  \n",
       "\n",
       "[92491 rows x 12 columns]"
      ]
     },
     "execution_count": 59,
     "metadata": {},
     "output_type": "execute_result"
    }
   ],
   "source": [
    "df"
   ]
  },
  {
   "cell_type": "code",
   "execution_count": 60,
   "metadata": {
    "colab": {
     "base_uri": "https://localhost:8080/"
    },
    "id": "OsV3uBTGC3C-",
    "outputId": "8d4a0824-734d-4dc4-a168-d09a1918a509"
   },
   "outputs": [
    {
     "data": {
      "text/plain": [
       "Index(['Product Category', 'Product', 'Amount', 'Status Code', 'Source',\n",
       "       'Branch', 'Last', 'Lead NBG', 'Lead Zone', 'Month', 'Year', 'Day'],\n",
       "      dtype='object')"
      ]
     },
     "execution_count": 60,
     "metadata": {},
     "output_type": "execute_result"
    }
   ],
   "source": [
    "df.columns"
   ]
  },
  {
   "cell_type": "code",
   "execution_count": 61,
   "metadata": {
    "id": "6ip8uQZnCone"
   },
   "outputs": [],
   "source": [
    "df=df.drop(['Branch', 'Last'],axis=1)"
   ]
  },
  {
   "cell_type": "code",
   "execution_count": 62,
   "metadata": {
    "id": "MIAue60bDEdn"
   },
   "outputs": [],
   "source": [
    "day_counts=df['Day'].value_counts()\n",
    "day_counts=dict(day_counts)\n",
    "day_counts=dict(sorted(day_counts.items()))"
   ]
  },
  {
   "cell_type": "markdown",
   "metadata": {
    "id": "04eg4GFWIrQi"
   },
   "source": [
    "## In the above we blocks we converted date 05-19-2023 into seperate date and month columns. Moreover on visualizing the days on which maximum people came for loans below,we found that as we approached the end of the month,maximum people refrained from taking the loans.This could be due to the salary structure of indian economy getting their salary at the end of every month.Also the percentage of taking opting for or appraoching banks for loans was maximum in the middle of the month"
   ]
  },
  {
   "cell_type": "code",
   "execution_count": null,
   "metadata": {
    "id": "kPj7s3WiIph8"
   },
   "outputs": [],
   "source": []
  },
  {
   "cell_type": "code",
   "execution_count": 63,
   "metadata": {
    "colab": {
     "base_uri": "https://localhost:8080/",
     "height": 539
    },
    "id": "lIh628_kDLS1",
    "outputId": "6ced5e62-551c-4181-e7b2-489d82353909"
   },
   "outputs": [
    {
     "data": {
      "text/plain": [
       "<AxesSubplot:>"
      ]
     },
     "execution_count": 63,
     "metadata": {},
     "output_type": "execute_result"
    },
    {
     "data": {
      "image/png": "[encoded data removed]",
      "text/plain": [
       "<Figure size 1000x600 with 1 Axes>"
      ]
     },
     "metadata": {},
     "output_type": "display_data"
    }
   ],
   "source": [
    "plt.figure(figsize=(10, 6))\n",
    "sns.barplot(x=list(day_counts.keys()),y=list(day_counts.values()))\n"
   ]
  },
  {
   "cell_type": "code",
   "execution_count": null,
   "metadata": {
    "id": "OHnj2AghIbej"
   },
   "outputs": [],
   "source": []
  },
  {
   "cell_type": "code",
   "execution_count": 64,
   "metadata": {
    "colab": {
     "base_uri": "https://localhost:8080/",
     "height": 450
    },
    "id": "XVqTUHn6DmAE",
    "outputId": "31aa9dd5-14f5-4637-8eb3-cd60383c706e"
   },
   "outputs": [
    {
     "data": {
      "text/plain": [
       "<AxesSubplot:ylabel='Count'>"
      ]
     },
     "execution_count": 64,
     "metadata": {},
     "output_type": "execute_result"
    },
    {
     "data": {
      "image/png": "[encoded data removed]",
      "text/plain": [
       "<Figure size 640x480 with 1 Axes>"
      ]
     },
     "metadata": {},
     "output_type": "display_data"
    }
   ],
   "source": [
    "sns.histplot(sorted(df['Day']), bins=10, kde=False)"
   ]
  },
  {
   "cell_type": "code",
   "execution_count": 65,
   "metadata": {
    "id": "1qK5kPgbMdG9"
   },
   "outputs": [],
   "source": [
    "df=df.reset_index()"
   ]
  },
  {
   "cell_type": "code",
   "execution_count": 66,
   "metadata": {
    "colab": {
     "base_uri": "https://localhost:8080/"
    },
    "id": "s1qXPdkgr4SO",
    "outputId": "8343289f-b0cd-48f0-9d24-37013e70e95e"
   },
   "outputs": [
    {
     "data": {
      "text/plain": [
       "['NBG', '-', 'WEST', '-II']"
      ]
     },
     "execution_count": 66,
     "metadata": {},
     "output_type": "execute_result"
    }
   ],
   "source": [
    "df['Lead NBG'][111].split(\" \")"
   ]
  },
  {
   "cell_type": "code",
   "execution_count": 67,
   "metadata": {
    "id": "6JW7vUAsKL3b"
   },
   "outputs": [],
   "source": [
    "temp_lead_ngb=[]\n",
    "temp_lead_zone=[]\n",
    "unrequired=['NBG', '-',' ']\n",
    "for item in zip(df['Lead NBG'],df['Lead Zone']):\n",
    "  temp=item[0].split(\" \")\n",
    "  for i in temp:\n",
    "    if i in unrequired:\n",
    "      temp.remove(i)\n",
    "  temp=\"\".join(temp).split(\"-\")\n",
    "  for i in temp:\n",
    "    if i in unrequired:\n",
    "      temp.remove(i)\n",
    "\n",
    "  \n",
    "\n",
    "\n",
    "  temp_lead_ngb.append(\"\".join(temp))\n",
    "  temp_lead_zone.append(item[1][:-13].strip())\n",
    "\n"
   ]
  },
  {
   "cell_type": "code",
   "execution_count": null,
   "metadata": {
    "id": "dt_fgguQs2lX"
   },
   "outputs": [],
   "source": []
  },
  {
   "cell_type": "code",
   "execution_count": 68,
   "metadata": {
    "id": "TNMKzcBCL_O9"
   },
   "outputs": [],
   "source": [
    "df['Lead NBG']=temp_lead_ngb\n",
    "df['Lead Zone']=temp_lead_zone\n"
   ]
  },
  {
   "cell_type": "code",
   "execution_count": 69,
   "metadata": {
    "colab": {
     "base_uri": "https://localhost:8080/",
     "height": 423
    },
    "id": "WFhBtKdMMCLs",
    "outputId": "2c7bc105-7294-4886-b2bd-ecbc8631ec30"
   },
   "outputs": [
    {
     "data": {
      "text/html": [
       "<div>\n",
       "<style scoped>\n",
       "    .dataframe tbody tr th:only-of-type {\n",
       "        vertical-align: middle;\n",
       "    }\n",
       "\n",
       "    .dataframe tbody tr th {\n",
       "        vertical-align: top;\n",
       "    }\n",
       "\n",
       "    .dataframe thead th {\n",
       "        text-align: right;\n",
       "    }\n",
       "</style>\n",
       "<table border=\"1\" class=\"dataframe\">\n",
       "  <thead>\n",
       "    <tr style=\"text-align: right;\">\n",
       "      <th></th>\n",
       "      <th>index</th>\n",
       "      <th>Product Category</th>\n",
       "      <th>Product</th>\n",
       "      <th>Amount</th>\n",
       "      <th>Status Code</th>\n",
       "      <th>Source</th>\n",
       "      <th>Lead NBG</th>\n",
       "      <th>Lead Zone</th>\n",
       "      <th>Month</th>\n",
       "      <th>Year</th>\n",
       "      <th>Day</th>\n",
       "    </tr>\n",
       "  </thead>\n",
       "  <tbody>\n",
       "    <tr>\n",
       "      <th>0</th>\n",
       "      <td>0</td>\n",
       "      <td>MSME</td>\n",
       "      <td>PMMY Kishore loan (Above 50000 to up to 5.00 l...</td>\n",
       "      <td>101</td>\n",
       "      <td>New Lead</td>\n",
       "      <td>EPL Branch</td>\n",
       "      <td>SOUTHII</td>\n",
       "      <td>VISAKHAPATNAM</td>\n",
       "      <td>4</td>\n",
       "      <td>2023</td>\n",
       "      <td>19</td>\n",
       "    </tr>\n",
       "    <tr>\n",
       "      <th>1</th>\n",
       "      <td>1</td>\n",
       "      <td>Retail</td>\n",
       "      <td>PERSONAL LOAN</td>\n",
       "      <td>300000</td>\n",
       "      <td>New Lead</td>\n",
       "      <td>Website</td>\n",
       "      <td>GUJARAT</td>\n",
       "      <td>AHMEDABAD</td>\n",
       "      <td>4</td>\n",
       "      <td>2023</td>\n",
       "      <td>19</td>\n",
       "    </tr>\n",
       "    <tr>\n",
       "      <th>2</th>\n",
       "      <td>7</td>\n",
       "      <td>MSME</td>\n",
       "      <td>PMMY Kishore loan (Above 50000 to up to 5.00 l...</td>\n",
       "      <td>101</td>\n",
       "      <td>New Lead</td>\n",
       "      <td>EPL Branch</td>\n",
       "      <td>GUJARAT</td>\n",
       "      <td>AHMEDABAD</td>\n",
       "      <td>4</td>\n",
       "      <td>2023</td>\n",
       "      <td>19</td>\n",
       "    </tr>\n",
       "    <tr>\n",
       "      <th>3</th>\n",
       "      <td>9</td>\n",
       "      <td>MSME</td>\n",
       "      <td>PMMY Tarun Loan (Above 5 lakhs to up to 10 lakhs)</td>\n",
       "      <td>101</td>\n",
       "      <td>New Lead</td>\n",
       "      <td>EPL Branch</td>\n",
       "      <td>JHARKHAND</td>\n",
       "      <td>RANCHI</td>\n",
       "      <td>4</td>\n",
       "      <td>2023</td>\n",
       "      <td>19</td>\n",
       "    </tr>\n",
       "    <tr>\n",
       "      <th>4</th>\n",
       "      <td>12</td>\n",
       "      <td>Agriculture</td>\n",
       "      <td>Agriculture Gold Loan</td>\n",
       "      <td>574000</td>\n",
       "      <td>New Lead</td>\n",
       "      <td>EPL Branch</td>\n",
       "      <td>SOUTHII</td>\n",
       "      <td>VIJAYAWADA</td>\n",
       "      <td>4</td>\n",
       "      <td>2023</td>\n",
       "      <td>19</td>\n",
       "    </tr>\n",
       "    <tr>\n",
       "      <th>...</th>\n",
       "      <td>...</td>\n",
       "      <td>...</td>\n",
       "      <td>...</td>\n",
       "      <td>...</td>\n",
       "      <td>...</td>\n",
       "      <td>...</td>\n",
       "      <td>...</td>\n",
       "      <td>...</td>\n",
       "      <td>...</td>\n",
       "      <td>...</td>\n",
       "      <td>...</td>\n",
       "    </tr>\n",
       "    <tr>\n",
       "      <th>92486</th>\n",
       "      <td>134750</td>\n",
       "      <td>Retail</td>\n",
       "      <td>PERSONAL LOAN</td>\n",
       "      <td>200000</td>\n",
       "      <td>New Lead</td>\n",
       "      <td>Website</td>\n",
       "      <td>WESTI</td>\n",
       "      <td>MUMBAI SOUTH</td>\n",
       "      <td>3</td>\n",
       "      <td>2023</td>\n",
       "      <td>1</td>\n",
       "    </tr>\n",
       "    <tr>\n",
       "      <th>92487</th>\n",
       "      <td>134751</td>\n",
       "      <td>Resource Mobilization</td>\n",
       "      <td>SB</td>\n",
       "      <td>100</td>\n",
       "      <td>Converted</td>\n",
       "      <td>EPL Web</td>\n",
       "      <td>NEWDELHI</td>\n",
       "      <td>JODHPUR</td>\n",
       "      <td>3</td>\n",
       "      <td>2023</td>\n",
       "      <td>1</td>\n",
       "    </tr>\n",
       "    <tr>\n",
       "      <th>92488</th>\n",
       "      <td>134752</td>\n",
       "      <td>Credit Card</td>\n",
       "      <td>Credit Card</td>\n",
       "      <td>1</td>\n",
       "      <td>Not Interested</td>\n",
       "      <td>Website</td>\n",
       "      <td>UTTARPRADESH</td>\n",
       "      <td>AGRA</td>\n",
       "      <td>3</td>\n",
       "      <td>2023</td>\n",
       "      <td>2</td>\n",
       "    </tr>\n",
       "    <tr>\n",
       "      <th>92489</th>\n",
       "      <td>134754</td>\n",
       "      <td>Resource Mobilization</td>\n",
       "      <td>SB</td>\n",
       "      <td>100</td>\n",
       "      <td>Converted</td>\n",
       "      <td>EPL Web</td>\n",
       "      <td>ODISHA</td>\n",
       "      <td>SAMBALPUR</td>\n",
       "      <td>3</td>\n",
       "      <td>2023</td>\n",
       "      <td>1</td>\n",
       "    </tr>\n",
       "    <tr>\n",
       "      <th>92490</th>\n",
       "      <td>134755</td>\n",
       "      <td>Resource Mobilization</td>\n",
       "      <td>SB</td>\n",
       "      <td>100</td>\n",
       "      <td>Converted</td>\n",
       "      <td>EPL Web</td>\n",
       "      <td>MP&amp;CG</td>\n",
       "      <td>RAIPUR</td>\n",
       "      <td>3</td>\n",
       "      <td>2023</td>\n",
       "      <td>1</td>\n",
       "    </tr>\n",
       "  </tbody>\n",
       "</table>\n",
       "<p>92491 rows × 11 columns</p>\n",
       "</div>"
      ],
      "text/plain": [
       "        index       Product Category  \\\n",
       "0           0                   MSME   \n",
       "1           1                 Retail   \n",
       "2           7                   MSME   \n",
       "3           9                   MSME   \n",
       "4          12            Agriculture   \n",
       "...       ...                    ...   \n",
       "92486  134750                 Retail   \n",
       "92487  134751  Resource Mobilization   \n",
       "92488  134752            Credit Card   \n",
       "92489  134754  Resource Mobilization   \n",
       "92490  134755  Resource Mobilization   \n",
       "\n",
       "                                                 Product  Amount  \\\n",
       "0      PMMY Kishore loan (Above 50000 to up to 5.00 l...     101   \n",
       "1                                          PERSONAL LOAN  300000   \n",
       "2      PMMY Kishore loan (Above 50000 to up to 5.00 l...     101   \n",
       "3      PMMY Tarun Loan (Above 5 lakhs to up to 10 lakhs)     101   \n",
       "4                                  Agriculture Gold Loan  574000   \n",
       "...                                                  ...     ...   \n",
       "92486                                      PERSONAL LOAN  200000   \n",
       "92487                                                 SB     100   \n",
       "92488                                        Credit Card       1   \n",
       "92489                                                 SB     100   \n",
       "92490                                                 SB     100   \n",
       "\n",
       "          Status Code      Source      Lead NBG      Lead Zone  Month  Year  \\\n",
       "0            New Lead  EPL Branch       SOUTHII  VISAKHAPATNAM      4  2023   \n",
       "1            New Lead     Website       GUJARAT      AHMEDABAD      4  2023   \n",
       "2            New Lead  EPL Branch       GUJARAT      AHMEDABAD      4  2023   \n",
       "3            New Lead  EPL Branch     JHARKHAND         RANCHI      4  2023   \n",
       "4            New Lead  EPL Branch       SOUTHII     VIJAYAWADA      4  2023   \n",
       "...               ...         ...           ...            ...    ...   ...   \n",
       "92486        New Lead     Website         WESTI   MUMBAI SOUTH      3  2023   \n",
       "92487       Converted     EPL Web      NEWDELHI        JODHPUR      3  2023   \n",
       "92488  Not Interested     Website  UTTARPRADESH           AGRA      3  2023   \n",
       "92489       Converted     EPL Web        ODISHA      SAMBALPUR      3  2023   \n",
       "92490       Converted     EPL Web         MP&CG         RAIPUR      3  2023   \n",
       "\n",
       "       Day  \n",
       "0       19  \n",
       "1       19  \n",
       "2       19  \n",
       "3       19  \n",
       "4       19  \n",
       "...    ...  \n",
       "92486    1  \n",
       "92487    1  \n",
       "92488    2  \n",
       "92489    1  \n",
       "92490    1  \n",
       "\n",
       "[92491 rows x 11 columns]"
      ]
     },
     "execution_count": 69,
     "metadata": {},
     "output_type": "execute_result"
    }
   ],
   "source": [
    "df"
   ]
  },
  {
   "cell_type": "code",
   "execution_count": 70,
   "metadata": {
    "id": "6yyC3Y8qNofr"
   },
   "outputs": [],
   "source": [
    "random_items = random.choices(df['Amount'], k=10000)\n"
   ]
  },
  {
   "cell_type": "code",
   "execution_count": null,
   "metadata": {
    "id": "RgbEUCWbQoiU"
   },
   "outputs": [],
   "source": []
  },
  {
   "cell_type": "code",
   "execution_count": 71,
   "metadata": {
    "colab": {
     "base_uri": "https://localhost:8080/"
    },
    "id": "Sxn4ExO2QzLa",
    "outputId": "6b1507a4-7482-4228-eabf-cb8b1dcf7bbb"
   },
   "outputs": [
    {
     "data": {
      "text/plain": [
       "count    47985.000000\n",
       "mean       100.045452\n",
       "std          7.775562\n",
       "min          0.000000\n",
       "25%        100.000000\n",
       "50%        101.000000\n",
       "75%        101.000000\n",
       "max        101.000000\n",
       "Name: Amount, dtype: float64"
      ]
     },
     "execution_count": 71,
     "metadata": {},
     "output_type": "execute_result"
    }
   ],
   "source": [
    "df[df['Product Category']==\"Resource Mobilization\"]['Amount'].describe()"
   ]
  },
  {
   "cell_type": "code",
   "execution_count": 72,
   "metadata": {
    "colab": {
     "base_uri": "https://localhost:8080/"
    },
    "id": "Bu9N6hf2qNuj",
    "outputId": "e3257f57-93ec-4cf9-da4b-31c93d963f6b"
   },
   "outputs": [
    {
     "data": {
      "text/plain": [
       "EAST            11600\n",
       "WESTII           9912\n",
       "UTTARPRADESH     9845\n",
       "MP&CG            9613\n",
       "BIHAR            8781\n",
       "SOUTHII          8451\n",
       "SOUTHI           7321\n",
       "JHARKHAND        5452\n",
       "GUJARAT          5442\n",
       "WESTI            5064\n",
       "ODISHA           4297\n",
       "NEWDELHI         4184\n",
       "CHANDIGARH       2529\n",
       "Name: Lead NBG, dtype: int64"
      ]
     },
     "execution_count": 72,
     "metadata": {},
     "output_type": "execute_result"
    }
   ],
   "source": [
    "df['Lead NBG'].value_counts()"
   ]
  },
  {
   "cell_type": "code",
   "execution_count": 73,
   "metadata": {
    "id": "lsCObIOHq0o9"
   },
   "outputs": [],
   "source": [
    "df['Amount in lakhs']=df['Amount']/100000"
   ]
  },
  {
   "cell_type": "code",
   "execution_count": 74,
   "metadata": {
    "id": "gUQutJ_Yuedn"
   },
   "outputs": [],
   "source": [
    "df_reduced=df[df['Amount in lakhs']>0.1]"
   ]
  },
  {
   "cell_type": "code",
   "execution_count": null,
   "metadata": {
    "id": "AFYaXl63uf2P"
   },
   "outputs": [],
   "source": []
  },
  {
   "cell_type": "code",
   "execution_count": 75,
   "metadata": {
    "colab": {
     "base_uri": "https://localhost:8080/",
     "height": 467
    },
    "id": "peu1XulEu6Ag",
    "outputId": "02abd34c-2471-4c95-8999-f5ca59fbd3b7"
   },
   "outputs": [
    {
     "data": {
      "text/html": [
       "<div>\n",
       "<style scoped>\n",
       "    .dataframe tbody tr th:only-of-type {\n",
       "        vertical-align: middle;\n",
       "    }\n",
       "\n",
       "    .dataframe tbody tr th {\n",
       "        vertical-align: top;\n",
       "    }\n",
       "\n",
       "    .dataframe thead th {\n",
       "        text-align: right;\n",
       "    }\n",
       "</style>\n",
       "<table border=\"1\" class=\"dataframe\">\n",
       "  <thead>\n",
       "    <tr style=\"text-align: right;\">\n",
       "      <th></th>\n",
       "      <th>level_0</th>\n",
       "      <th>index</th>\n",
       "      <th>Product Category</th>\n",
       "      <th>Product</th>\n",
       "      <th>Amount</th>\n",
       "      <th>Status Code</th>\n",
       "      <th>Source</th>\n",
       "      <th>Lead NBG</th>\n",
       "      <th>Lead Zone</th>\n",
       "      <th>Month</th>\n",
       "      <th>Year</th>\n",
       "      <th>Day</th>\n",
       "      <th>Amount in lakhs</th>\n",
       "    </tr>\n",
       "  </thead>\n",
       "  <tbody>\n",
       "    <tr>\n",
       "      <th>0</th>\n",
       "      <td>1</td>\n",
       "      <td>1</td>\n",
       "      <td>Retail</td>\n",
       "      <td>PERSONAL LOAN</td>\n",
       "      <td>300000</td>\n",
       "      <td>New Lead</td>\n",
       "      <td>Website</td>\n",
       "      <td>GUJARAT</td>\n",
       "      <td>AHMEDABAD</td>\n",
       "      <td>4</td>\n",
       "      <td>2023</td>\n",
       "      <td>19</td>\n",
       "      <td>3.00</td>\n",
       "    </tr>\n",
       "    <tr>\n",
       "      <th>1</th>\n",
       "      <td>4</td>\n",
       "      <td>12</td>\n",
       "      <td>Agriculture</td>\n",
       "      <td>Agriculture Gold Loan</td>\n",
       "      <td>574000</td>\n",
       "      <td>New Lead</td>\n",
       "      <td>EPL Branch</td>\n",
       "      <td>SOUTHII</td>\n",
       "      <td>VIJAYAWADA</td>\n",
       "      <td>4</td>\n",
       "      <td>2023</td>\n",
       "      <td>19</td>\n",
       "      <td>5.74</td>\n",
       "    </tr>\n",
       "    <tr>\n",
       "      <th>2</th>\n",
       "      <td>5</td>\n",
       "      <td>14</td>\n",
       "      <td>MSME</td>\n",
       "      <td>Gold Loan</td>\n",
       "      <td>45000</td>\n",
       "      <td>Docs Collected</td>\n",
       "      <td>EPL Branch</td>\n",
       "      <td>SOUTHII</td>\n",
       "      <td>VIJAYAWADA</td>\n",
       "      <td>4</td>\n",
       "      <td>2023</td>\n",
       "      <td>19</td>\n",
       "      <td>0.45</td>\n",
       "    </tr>\n",
       "    <tr>\n",
       "      <th>3</th>\n",
       "      <td>7</td>\n",
       "      <td>20</td>\n",
       "      <td>Agriculture</td>\n",
       "      <td>Kisan Credit Card</td>\n",
       "      <td>100000</td>\n",
       "      <td>New Lead</td>\n",
       "      <td>Mobile Banking</td>\n",
       "      <td>MP&amp;CG</td>\n",
       "      <td>DHAR</td>\n",
       "      <td>4</td>\n",
       "      <td>2023</td>\n",
       "      <td>19</td>\n",
       "      <td>1.00</td>\n",
       "    </tr>\n",
       "    <tr>\n",
       "      <th>4</th>\n",
       "      <td>10</td>\n",
       "      <td>28</td>\n",
       "      <td>MSME</td>\n",
       "      <td>PMMY Shishu Loan(Up to Rs. 50000)</td>\n",
       "      <td>50000</td>\n",
       "      <td>New Lead</td>\n",
       "      <td>EPL Branch</td>\n",
       "      <td>BIHAR</td>\n",
       "      <td>BHAGALPUR</td>\n",
       "      <td>4</td>\n",
       "      <td>2023</td>\n",
       "      <td>19</td>\n",
       "      <td>0.50</td>\n",
       "    </tr>\n",
       "    <tr>\n",
       "      <th>...</th>\n",
       "      <td>...</td>\n",
       "      <td>...</td>\n",
       "      <td>...</td>\n",
       "      <td>...</td>\n",
       "      <td>...</td>\n",
       "      <td>...</td>\n",
       "      <td>...</td>\n",
       "      <td>...</td>\n",
       "      <td>...</td>\n",
       "      <td>...</td>\n",
       "      <td>...</td>\n",
       "      <td>...</td>\n",
       "      <td>...</td>\n",
       "    </tr>\n",
       "    <tr>\n",
       "      <th>37445</th>\n",
       "      <td>92453</td>\n",
       "      <td>134696</td>\n",
       "      <td>Retail</td>\n",
       "      <td>PERSONAL LOAN</td>\n",
       "      <td>600000</td>\n",
       "      <td>New Lead</td>\n",
       "      <td>Website</td>\n",
       "      <td>ODISHA</td>\n",
       "      <td>BHUBANESHWAR</td>\n",
       "      <td>3</td>\n",
       "      <td>2023</td>\n",
       "      <td>1</td>\n",
       "      <td>6.00</td>\n",
       "    </tr>\n",
       "    <tr>\n",
       "      <th>37446</th>\n",
       "      <td>92465</td>\n",
       "      <td>134710</td>\n",
       "      <td>Retail</td>\n",
       "      <td>PERSONAL LOAN</td>\n",
       "      <td>100000</td>\n",
       "      <td>New Lead</td>\n",
       "      <td>Website</td>\n",
       "      <td>EAST</td>\n",
       "      <td>SILIGURI</td>\n",
       "      <td>3</td>\n",
       "      <td>2023</td>\n",
       "      <td>8</td>\n",
       "      <td>1.00</td>\n",
       "    </tr>\n",
       "    <tr>\n",
       "      <th>37447</th>\n",
       "      <td>92478</td>\n",
       "      <td>134735</td>\n",
       "      <td>Retail</td>\n",
       "      <td>PERSONAL LOAN</td>\n",
       "      <td>1000000</td>\n",
       "      <td>Assign to Branch</td>\n",
       "      <td>Website</td>\n",
       "      <td>UTTARPRADESH</td>\n",
       "      <td>KANPUR</td>\n",
       "      <td>3</td>\n",
       "      <td>2023</td>\n",
       "      <td>1</td>\n",
       "      <td>10.00</td>\n",
       "    </tr>\n",
       "    <tr>\n",
       "      <th>37448</th>\n",
       "      <td>92482</td>\n",
       "      <td>134743</td>\n",
       "      <td>Retail</td>\n",
       "      <td>VEHICLE LOAN</td>\n",
       "      <td>1500000</td>\n",
       "      <td>New Lead</td>\n",
       "      <td>Website</td>\n",
       "      <td>ODISHA</td>\n",
       "      <td>KEONJHAR</td>\n",
       "      <td>3</td>\n",
       "      <td>2023</td>\n",
       "      <td>1</td>\n",
       "      <td>15.00</td>\n",
       "    </tr>\n",
       "    <tr>\n",
       "      <th>37449</th>\n",
       "      <td>92486</td>\n",
       "      <td>134750</td>\n",
       "      <td>Retail</td>\n",
       "      <td>PERSONAL LOAN</td>\n",
       "      <td>200000</td>\n",
       "      <td>New Lead</td>\n",
       "      <td>Website</td>\n",
       "      <td>WESTI</td>\n",
       "      <td>MUMBAI SOUTH</td>\n",
       "      <td>3</td>\n",
       "      <td>2023</td>\n",
       "      <td>1</td>\n",
       "      <td>2.00</td>\n",
       "    </tr>\n",
       "  </tbody>\n",
       "</table>\n",
       "<p>37450 rows × 13 columns</p>\n",
       "</div>"
      ],
      "text/plain": [
       "       level_0   index Product Category                            Product  \\\n",
       "0            1       1           Retail                      PERSONAL LOAN   \n",
       "1            4      12      Agriculture              Agriculture Gold Loan   \n",
       "2            5      14             MSME                          Gold Loan   \n",
       "3            7      20      Agriculture                  Kisan Credit Card   \n",
       "4           10      28             MSME  PMMY Shishu Loan(Up to Rs. 50000)   \n",
       "...        ...     ...              ...                                ...   \n",
       "37445    92453  134696           Retail                      PERSONAL LOAN   \n",
       "37446    92465  134710           Retail                      PERSONAL LOAN   \n",
       "37447    92478  134735           Retail                      PERSONAL LOAN   \n",
       "37448    92482  134743           Retail                       VEHICLE LOAN   \n",
       "37449    92486  134750           Retail                      PERSONAL LOAN   \n",
       "\n",
       "        Amount       Status Code          Source      Lead NBG     Lead Zone  \\\n",
       "0       300000          New Lead         Website       GUJARAT     AHMEDABAD   \n",
       "1       574000          New Lead      EPL Branch       SOUTHII    VIJAYAWADA   \n",
       "2        45000    Docs Collected      EPL Branch       SOUTHII    VIJAYAWADA   \n",
       "3       100000          New Lead  Mobile Banking         MP&CG          DHAR   \n",
       "4        50000          New Lead      EPL Branch         BIHAR     BHAGALPUR   \n",
       "...        ...               ...             ...           ...           ...   \n",
       "37445   600000          New Lead         Website        ODISHA  BHUBANESHWAR   \n",
       "37446   100000          New Lead         Website          EAST      SILIGURI   \n",
       "37447  1000000  Assign to Branch         Website  UTTARPRADESH        KANPUR   \n",
       "37448  1500000          New Lead         Website        ODISHA      KEONJHAR   \n",
       "37449   200000          New Lead         Website         WESTI  MUMBAI SOUTH   \n",
       "\n",
       "       Month  Year  Day  Amount in lakhs  \n",
       "0          4  2023   19             3.00  \n",
       "1          4  2023   19             5.74  \n",
       "2          4  2023   19             0.45  \n",
       "3          4  2023   19             1.00  \n",
       "4          4  2023   19             0.50  \n",
       "...      ...   ...  ...              ...  \n",
       "37445      3  2023    1             6.00  \n",
       "37446      3  2023    8             1.00  \n",
       "37447      3  2023    1            10.00  \n",
       "37448      3  2023    1            15.00  \n",
       "37449      3  2023    1             2.00  \n",
       "\n",
       "[37450 rows x 13 columns]"
      ]
     },
     "execution_count": 75,
     "metadata": {},
     "output_type": "execute_result"
    }
   ],
   "source": [
    "df_reduced.reset_index()"
   ]
  },
  {
   "cell_type": "code",
   "execution_count": 76,
   "metadata": {
    "colab": {
     "base_uri": "https://localhost:8080/"
    },
    "id": "rWcEoOVJu_zq",
    "outputId": "46b5201d-e564-4711-f1bb-9778625b36e4"
   },
   "outputs": [
    {
     "data": {
      "text/plain": [
       "Index(['index', 'Product Category', 'Product', 'Amount', 'Status Code',\n",
       "       'Source', 'Lead NBG', 'Lead Zone', 'Month', 'Year', 'Day',\n",
       "       'Amount in lakhs'],\n",
       "      dtype='object')"
      ]
     },
     "execution_count": 76,
     "metadata": {},
     "output_type": "execute_result"
    }
   ],
   "source": [
    "df_reduced.columns"
   ]
  },
  {
   "cell_type": "code",
   "execution_count": null,
   "metadata": {
    "id": "QTsz9CqMvHby"
   },
   "outputs": [],
   "source": []
  },
  {
   "cell_type": "code",
   "execution_count": null,
   "metadata": {
    "id": "2w9072ECy2bf"
   },
   "outputs": [],
   "source": []
  },
  {
   "cell_type": "code",
   "execution_count": 77,
   "metadata": {
    "colab": {
     "base_uri": "https://localhost:8080/"
    },
    "id": "wU9Hm_BavWxv",
    "outputId": "ae359cb7-13ce-4e7b-a20d-e5a9dcbca10c"
   },
   "outputs": [
    {
     "data": {
      "text/plain": [
       "Int64Index([    1,     4,     5,     7,    10,    11,    12,    14,    15,\n",
       "               16,\n",
       "            ...\n",
       "            92444, 92448, 92449, 92451, 92452, 92453, 92465, 92478, 92482,\n",
       "            92486],\n",
       "           dtype='int64', length=37450)"
      ]
     },
     "execution_count": 77,
     "metadata": {},
     "output_type": "execute_result"
    }
   ],
   "source": [
    "\n",
    "df_reduced.index"
   ]
  },
  {
   "cell_type": "code",
   "execution_count": 78,
   "metadata": {
    "id": "75O5ZiRRvYQW"
   },
   "outputs": [],
   "source": [
    "region_amounts=dict()\n",
    "for i in df_reduced.index:\n",
    "  if df_reduced['Lead NBG'][i] not in region_amounts.keys():\n",
    "    region_amounts[df_reduced['Lead NBG'][i]]=df_reduced['Amount in lakhs'][i]\n",
    "  else:\n",
    "    region_amounts[df_reduced['Lead NBG'][i]]+=df_reduced['Amount in lakhs'][i]\n"
   ]
  },
  {
   "cell_type": "markdown",
   "metadata": {
    "id": "9sfqtdSsJ0C0"
   },
   "source": [
    "## This plot shows the amount of total loan taken by people based on the regions"
   ]
  },
  {
   "cell_type": "code",
   "execution_count": null,
   "metadata": {
    "id": "F5tEFNRyJwjn"
   },
   "outputs": [],
   "source": []
  },
  {
   "cell_type": "code",
   "execution_count": 79,
   "metadata": {
    "colab": {
     "base_uri": "https://localhost:8080/",
     "height": 784
    },
    "id": "DWSbg82rwhXc",
    "outputId": "c6f0d905-f8d3-4f2b-b435-faa318b9d12e"
   },
   "outputs": [
    {
     "data": {
      "text/plain": [
       "(array([ 0,  1,  2,  3,  4,  5,  6,  7,  8,  9, 10, 11, 12]),\n",
       " [Text(0, 0, 'GUJARAT'),\n",
       "  Text(1, 0, 'SOUTHII'),\n",
       "  Text(2, 0, 'MP&CG'),\n",
       "  Text(3, 0, 'BIHAR'),\n",
       "  Text(4, 0, 'UTTARPRADESH'),\n",
       "  Text(5, 0, 'NEWDELHI'),\n",
       "  Text(6, 0, 'ODISHA'),\n",
       "  Text(7, 0, 'EAST'),\n",
       "  Text(8, 0, 'JHARKHAND'),\n",
       "  Text(9, 0, 'WESTII'),\n",
       "  Text(10, 0, 'SOUTHI'),\n",
       "  Text(11, 0, 'WESTI'),\n",
       "  Text(12, 0, 'CHANDIGARH')])"
      ]
     },
     "execution_count": 79,
     "metadata": {},
     "output_type": "execute_result"
    },
    {
     "data": {
      "image/png": "[encoded data removed]",
      "text/plain": [
       "<Figure size 640x480 with 1 Axes>"
      ]
     },
     "metadata": {},
     "output_type": "display_data"
    }
   ],
   "source": [
    "sns.barplot(x=list(region_amounts.keys()),y=list(region_amounts.values()))\n",
    "plt.xticks(rotation=90)"
   ]
  },
  {
   "cell_type": "markdown",
   "metadata": {
    "id": "I4VQrfDQKBQN"
   },
   "source": [
    "## This plot shows the category of loans taken by people based on regions.As we can see here the majority of agricultural loans were taken by the Southern and Eastern region people"
   ]
  },
  {
   "cell_type": "code",
   "execution_count": null,
   "metadata": {
    "id": "WSJDhIbOJ-jc"
   },
   "outputs": [],
   "source": []
  },
  {
   "cell_type": "code",
   "execution_count": 80,
   "metadata": {
    "colab": {
     "base_uri": "https://localhost:8080/",
     "height": 469
    },
    "id": "GZldRYBawnq6",
    "outputId": "3ad21ea4-7dd7-4fad-d22e-31db3ab5db8e"
   },
   "outputs": [
    {
     "data": {
      "text/plain": [
       "<AxesSubplot:xlabel='Product Category', ylabel='Lead NBG'>"
      ]
     },
     "execution_count": 80,
     "metadata": {},
     "output_type": "execute_result"
    },
    {
     "data": {
      "image/png": "[encoded data removed]",
      "text/plain": [
       "<Figure size 640x480 with 2 Axes>"
      ]
     },
     "metadata": {},
     "output_type": "display_data"
    }
   ],
   "source": [
    "matrix=matrix = pd.crosstab(df_reduced['Lead NBG'], df_reduced['Product Category'])\n",
    "sns.heatmap(matrix, cmap='coolwarm')"
   ]
  },
  {
   "cell_type": "code",
   "execution_count": null,
   "metadata": {
    "id": "HXEOXnaGKYWq"
   },
   "outputs": [],
   "source": []
  },
  {
   "cell_type": "markdown",
   "metadata": {
    "id": "DurhcJ1xKaZl"
   },
   "source": [
    "## imported necessary libraries required for predictive modelling"
   ]
  },
  {
   "cell_type": "code",
   "execution_count": 81,
   "metadata": {
    "id": "HgdzgK9N2Qrt"
   },
   "outputs": [],
   "source": [
    "from sklearn.linear_model import LinearRegression\n",
    "from sklearn.model_selection import train_test_split\n",
    "from sklearn.metrics import mean_squared_error\n",
    "from sklearn.preprocessing import OneHotEncoder\n",
    "from sklearn.compose import ColumnTransformer\n",
    "from sklearn.pipeline import Pipeline\n",
    "from sklearn.linear_model import LogisticRegression\n",
    "from sklearn.metrics import accuracy_score"
   ]
  },
  {
   "cell_type": "code",
   "execution_count": 82,
   "metadata": {
    "colab": {
     "base_uri": "https://localhost:8080/"
    },
    "id": "J-9lWPko6De6",
    "outputId": "c9b79060-72d6-466e-e5be-64a5e6623cbd"
   },
   "outputs": [
    {
     "data": {
      "text/plain": [
       "Product Category    object\n",
       "Status Code         object\n",
       "Source              object\n",
       "Lead NBG            object\n",
       "Lead Zone           object\n",
       "Month                int64\n",
       "Day                  int64\n",
       "dtype: object"
      ]
     },
     "execution_count": 82,
     "metadata": {},
     "output_type": "execute_result"
    }
   ],
   "source": [
    "column_types = df_reduced.dtypes\n",
    "column_types[ ['Product Category','Status Code','Source', 'Lead NBG', 'Lead Zone', 'Month','Day']]"
   ]
  },
  {
   "cell_type": "code",
   "execution_count": null,
   "metadata": {
    "id": "jn-7qIjfKoWB"
   },
   "outputs": [],
   "source": []
  },
  {
   "cell_type": "markdown",
   "metadata": {
    "id": "CuE1EcViKqqw"
   },
   "source": [
    "## Trained a linear regression model to find the total amount of loan to be taken by the customer.But the model wasnt good as majority of the values were categorical in nature.Due to which we shifted towards multi class regression for finding if the laon will get sanctioned or rejected based on the customer"
   ]
  },
  {
   "cell_type": "code",
   "execution_count": 83,
   "metadata": {
    "colab": {
     "base_uri": "https://localhost:8080/"
    },
    "id": "ApHWdXxZ2kis",
    "outputId": "d23b7129-df50-4a72-ee00-1813c23b76e4"
   },
   "outputs": [
    {
     "data": {
      "text/plain": [
       "Index(['index', 'Product Category', 'Product', 'Amount', 'Status Code',\n",
       "       'Source', 'Lead NBG', 'Lead Zone', 'Month', 'Year', 'Day',\n",
       "       'Amount in lakhs'],\n",
       "      dtype='object')"
      ]
     },
     "execution_count": 83,
     "metadata": {},
     "output_type": "execute_result"
    }
   ],
   "source": [
    "df_reduced.columns"
   ]
  },
  {
   "cell_type": "code",
   "execution_count": 84,
   "metadata": {
    "id": "bT4oTLmt3tib"
   },
   "outputs": [],
   "source": [
    "X = df_reduced[ ['Product Category','Status Code','Source', 'Lead NBG', 'Lead Zone', 'Month','Day']] # Features\n",
    "y = df_reduced['Amount']  # Target variable\n"
   ]
  },
  {
   "cell_type": "code",
   "execution_count": 85,
   "metadata": {
    "id": "FW0ouFit4DLj"
   },
   "outputs": [],
   "source": [
    "preprocessor = ColumnTransformer(\n",
    "    transformers=[\n",
    "        ('data', OneHotEncoder(), ['Product Category','Status Code','Source', 'Lead NBG', 'Lead Zone'])\n",
    "    ])"
   ]
  },
  {
   "cell_type": "code",
   "execution_count": 86,
   "metadata": {
    "colab": {
     "base_uri": "https://localhost:8080/"
    },
    "id": "kM4YDQkq41Ks",
    "outputId": "126bbb74-10ab-4931-fc60-d21f56027fea"
   },
   "outputs": [
    {
     "name": "stdout",
     "output_type": "stream",
     "text": [
      "[-7.33676996e+11 -3.87800261e+11  4.11619025e+11 ... -5.20319816e+11\n",
      " -1.22189585e+12  1.16592451e+12]\n"
     ]
    }
   ],
   "source": [
    "\n",
    "\n",
    "# Fit the pipeline to the data\n",
    "X_encoded=preprocessor.fit_transform(X)\n",
    "\n",
    "X_train, X_test, y_train, y_test = train_test_split(X_encoded, y, test_size=0.2, random_state=42)\n",
    "\n",
    "# Create and fit the linear regression model\n",
    "model = LinearRegression()\n",
    "model.fit(X_train, y_train)\n",
    "\n",
    "# Make predictions on the test set\n",
    "y_pred = model.predict(X_test)\n",
    "\n",
    "print(y_pred)"
   ]
  },
  {
   "cell_type": "code",
   "execution_count": 87,
   "metadata": {
    "colab": {
     "base_uri": "https://localhost:8080/"
    },
    "id": "ZAJgHUEO7FPx",
    "outputId": "339f5586-1a78-4008-d48d-e050a68b1967"
   },
   "outputs": [
    {
     "data": {
      "text/plain": [
       "Index(['index', 'Product Category', 'Product', 'Amount', 'Status Code',\n",
       "       'Source', 'Lead NBG', 'Lead Zone', 'Month', 'Year', 'Day',\n",
       "       'Amount in lakhs'],\n",
       "      dtype='object')"
      ]
     },
     "execution_count": 87,
     "metadata": {},
     "output_type": "execute_result"
    }
   ],
   "source": [
    "df_reduced.columns"
   ]
  },
  {
   "cell_type": "markdown",
   "metadata": {
    "id": "U-jqVQHGDRAf"
   },
   "source": [
    "## Keeping only those data points whoose loan was either sanctioned ,rejected or disqualified and based on the features we have we are training a multi-class logistic regression model to find out that for every new user or lead whether or not the loan would be sanctioned or not"
   ]
  },
  {
   "cell_type": "code",
   "execution_count": null,
   "metadata": {
    "id": "R9rQ7IZ6DPmI"
   },
   "outputs": [],
   "source": []
  },
  {
   "cell_type": "code",
   "execution_count": 88,
   "metadata": {
    "colab": {
     "base_uri": "https://localhost:8080/"
    },
    "id": "RN_Pzao97HYX",
    "outputId": "77a52962-090e-4f3c-ab63-7c1012d2a1ad"
   },
   "outputs": [
    {
     "name": "stderr",
     "output_type": "stream",
     "text": [
      "C:\\Users\\Lenovobhavya\\AppData\\Local\\Temp\\ipykernel_20144\\1234410210.py:1: UserWarning: Boolean Series key will be reindexed to match DataFrame index.\n",
      "  df_reduced=df_reduced[(df['Status Code']=='Sanctioned') | (df['Status Code']=='Rejected') | (df['Status Code']=='Disqualified')   ]\n"
     ]
    }
   ],
   "source": [
    "df_reduced=df_reduced[(df['Status Code']=='Sanctioned') | (df['Status Code']=='Rejected') | (df['Status Code']=='Disqualified')   ]"
   ]
  },
  {
   "cell_type": "code",
   "execution_count": 89,
   "metadata": {
    "colab": {
     "base_uri": "https://localhost:8080/",
     "height": 423
    },
    "id": "cbbKwtMSC50P",
    "outputId": "f33862ab-543a-4983-dc5d-b4743d5ce2b8"
   },
   "outputs": [
    {
     "data": {
      "text/html": [
       "<div>\n",
       "<style scoped>\n",
       "    .dataframe tbody tr th:only-of-type {\n",
       "        vertical-align: middle;\n",
       "    }\n",
       "\n",
       "    .dataframe tbody tr th {\n",
       "        vertical-align: top;\n",
       "    }\n",
       "\n",
       "    .dataframe thead th {\n",
       "        text-align: right;\n",
       "    }\n",
       "</style>\n",
       "<table border=\"1\" class=\"dataframe\">\n",
       "  <thead>\n",
       "    <tr style=\"text-align: right;\">\n",
       "      <th></th>\n",
       "      <th>index</th>\n",
       "      <th>Product Category</th>\n",
       "      <th>Product</th>\n",
       "      <th>Amount</th>\n",
       "      <th>Status Code</th>\n",
       "      <th>Source</th>\n",
       "      <th>Lead NBG</th>\n",
       "      <th>Lead Zone</th>\n",
       "      <th>Month</th>\n",
       "      <th>Year</th>\n",
       "      <th>Day</th>\n",
       "      <th>Amount in lakhs</th>\n",
       "    </tr>\n",
       "  </thead>\n",
       "  <tbody>\n",
       "    <tr>\n",
       "      <th>20</th>\n",
       "      <td>90</td>\n",
       "      <td>Agriculture</td>\n",
       "      <td>Agriculture Gold Loan</td>\n",
       "      <td>82000</td>\n",
       "      <td>Sanctioned</td>\n",
       "      <td>EPL Branch</td>\n",
       "      <td>SOUTHII</td>\n",
       "      <td>VISAKHAPATNAM</td>\n",
       "      <td>4</td>\n",
       "      <td>2023</td>\n",
       "      <td>19</td>\n",
       "      <td>0.82</td>\n",
       "    </tr>\n",
       "    <tr>\n",
       "      <th>54</th>\n",
       "      <td>174</td>\n",
       "      <td>Agriculture</td>\n",
       "      <td>Agriculture Gold Loan</td>\n",
       "      <td>400000</td>\n",
       "      <td>Sanctioned</td>\n",
       "      <td>EPL Branch</td>\n",
       "      <td>EAST</td>\n",
       "      <td>BARASAT</td>\n",
       "      <td>4</td>\n",
       "      <td>2023</td>\n",
       "      <td>19</td>\n",
       "      <td>4.00</td>\n",
       "    </tr>\n",
       "    <tr>\n",
       "      <th>68</th>\n",
       "      <td>208</td>\n",
       "      <td>Agriculture</td>\n",
       "      <td>Agriculture Gold Loan</td>\n",
       "      <td>50000</td>\n",
       "      <td>Sanctioned</td>\n",
       "      <td>EPL Branch</td>\n",
       "      <td>SOUTHI</td>\n",
       "      <td>MADURAI</td>\n",
       "      <td>4</td>\n",
       "      <td>2023</td>\n",
       "      <td>19</td>\n",
       "      <td>0.50</td>\n",
       "    </tr>\n",
       "    <tr>\n",
       "      <th>70</th>\n",
       "      <td>211</td>\n",
       "      <td>Agriculture</td>\n",
       "      <td>Agriculture Gold Loan</td>\n",
       "      <td>60000</td>\n",
       "      <td>Sanctioned</td>\n",
       "      <td>EPL Branch</td>\n",
       "      <td>ODISHA</td>\n",
       "      <td>BARIPADA</td>\n",
       "      <td>4</td>\n",
       "      <td>2023</td>\n",
       "      <td>19</td>\n",
       "      <td>0.60</td>\n",
       "    </tr>\n",
       "    <tr>\n",
       "      <th>76</th>\n",
       "      <td>227</td>\n",
       "      <td>Agriculture</td>\n",
       "      <td>Agriculture Gold Loan</td>\n",
       "      <td>75000</td>\n",
       "      <td>Sanctioned</td>\n",
       "      <td>EPL Branch</td>\n",
       "      <td>SOUTHI</td>\n",
       "      <td>ERNAKULAM</td>\n",
       "      <td>4</td>\n",
       "      <td>2023</td>\n",
       "      <td>19</td>\n",
       "      <td>0.75</td>\n",
       "    </tr>\n",
       "    <tr>\n",
       "      <th>...</th>\n",
       "      <td>...</td>\n",
       "      <td>...</td>\n",
       "      <td>...</td>\n",
       "      <td>...</td>\n",
       "      <td>...</td>\n",
       "      <td>...</td>\n",
       "      <td>...</td>\n",
       "      <td>...</td>\n",
       "      <td>...</td>\n",
       "      <td>...</td>\n",
       "      <td>...</td>\n",
       "      <td>...</td>\n",
       "    </tr>\n",
       "    <tr>\n",
       "      <th>92355</th>\n",
       "      <td>134507</td>\n",
       "      <td>Agriculture</td>\n",
       "      <td>Kisan Ghar</td>\n",
       "      <td>99000</td>\n",
       "      <td>Rejected</td>\n",
       "      <td>Website</td>\n",
       "      <td>BIHAR</td>\n",
       "      <td>SIWAN</td>\n",
       "      <td>3</td>\n",
       "      <td>2023</td>\n",
       "      <td>27</td>\n",
       "      <td>0.99</td>\n",
       "    </tr>\n",
       "    <tr>\n",
       "      <th>92395</th>\n",
       "      <td>134575</td>\n",
       "      <td>MSME</td>\n",
       "      <td>MSME Business Loans</td>\n",
       "      <td>200000</td>\n",
       "      <td>Rejected</td>\n",
       "      <td>Missed Call</td>\n",
       "      <td>EAST</td>\n",
       "      <td>BARASAT</td>\n",
       "      <td>3</td>\n",
       "      <td>2023</td>\n",
       "      <td>18</td>\n",
       "      <td>2.00</td>\n",
       "    </tr>\n",
       "    <tr>\n",
       "      <th>92399</th>\n",
       "      <td>134595</td>\n",
       "      <td>Retail</td>\n",
       "      <td>HOME LOAN</td>\n",
       "      <td>4500000</td>\n",
       "      <td>Rejected</td>\n",
       "      <td>Website</td>\n",
       "      <td>EAST</td>\n",
       "      <td>BARASAT</td>\n",
       "      <td>3</td>\n",
       "      <td>2023</td>\n",
       "      <td>18</td>\n",
       "      <td>45.00</td>\n",
       "    </tr>\n",
       "    <tr>\n",
       "      <th>92417</th>\n",
       "      <td>134631</td>\n",
       "      <td>MSME</td>\n",
       "      <td>PMMY Kishore loan (Above 50000 to up to 5.00 l...</td>\n",
       "      <td>100000</td>\n",
       "      <td>Rejected</td>\n",
       "      <td>Contact Center</td>\n",
       "      <td>BIHAR</td>\n",
       "      <td>BHAGALPUR</td>\n",
       "      <td>3</td>\n",
       "      <td>2023</td>\n",
       "      <td>24</td>\n",
       "      <td>1.00</td>\n",
       "    </tr>\n",
       "    <tr>\n",
       "      <th>92438</th>\n",
       "      <td>134670</td>\n",
       "      <td>MSME</td>\n",
       "      <td>PMMY Shishu Loan(Up to Rs. 50000)</td>\n",
       "      <td>49000</td>\n",
       "      <td>Sanctioned</td>\n",
       "      <td>EPL Web</td>\n",
       "      <td>WESTII</td>\n",
       "      <td>NASIK</td>\n",
       "      <td>3</td>\n",
       "      <td>2023</td>\n",
       "      <td>1</td>\n",
       "      <td>0.49</td>\n",
       "    </tr>\n",
       "  </tbody>\n",
       "</table>\n",
       "<p>19495 rows × 12 columns</p>\n",
       "</div>"
      ],
      "text/plain": [
       "        index Product Category  \\\n",
       "20         90      Agriculture   \n",
       "54        174      Agriculture   \n",
       "68        208      Agriculture   \n",
       "70        211      Agriculture   \n",
       "76        227      Agriculture   \n",
       "...       ...              ...   \n",
       "92355  134507      Agriculture   \n",
       "92395  134575             MSME   \n",
       "92399  134595           Retail   \n",
       "92417  134631             MSME   \n",
       "92438  134670             MSME   \n",
       "\n",
       "                                                 Product   Amount Status Code  \\\n",
       "20                                 Agriculture Gold Loan    82000  Sanctioned   \n",
       "54                                 Agriculture Gold Loan   400000  Sanctioned   \n",
       "68                                 Agriculture Gold Loan    50000  Sanctioned   \n",
       "70                                 Agriculture Gold Loan    60000  Sanctioned   \n",
       "76                                 Agriculture Gold Loan    75000  Sanctioned   \n",
       "...                                                  ...      ...         ...   \n",
       "92355                                         Kisan Ghar    99000    Rejected   \n",
       "92395                                MSME Business Loans   200000    Rejected   \n",
       "92399                                          HOME LOAN  4500000    Rejected   \n",
       "92417  PMMY Kishore loan (Above 50000 to up to 5.00 l...   100000    Rejected   \n",
       "92438                  PMMY Shishu Loan(Up to Rs. 50000)    49000  Sanctioned   \n",
       "\n",
       "               Source Lead NBG      Lead Zone  Month  Year  Day  \\\n",
       "20         EPL Branch  SOUTHII  VISAKHAPATNAM      4  2023   19   \n",
       "54         EPL Branch     EAST        BARASAT      4  2023   19   \n",
       "68         EPL Branch   SOUTHI        MADURAI      4  2023   19   \n",
       "70         EPL Branch   ODISHA       BARIPADA      4  2023   19   \n",
       "76         EPL Branch   SOUTHI      ERNAKULAM      4  2023   19   \n",
       "...               ...      ...            ...    ...   ...  ...   \n",
       "92355         Website    BIHAR          SIWAN      3  2023   27   \n",
       "92395     Missed Call     EAST        BARASAT      3  2023   18   \n",
       "92399         Website     EAST        BARASAT      3  2023   18   \n",
       "92417  Contact Center    BIHAR      BHAGALPUR      3  2023   24   \n",
       "92438         EPL Web   WESTII          NASIK      3  2023    1   \n",
       "\n",
       "       Amount in lakhs  \n",
       "20                0.82  \n",
       "54                4.00  \n",
       "68                0.50  \n",
       "70                0.60  \n",
       "76                0.75  \n",
       "...                ...  \n",
       "92355             0.99  \n",
       "92395             2.00  \n",
       "92399            45.00  \n",
       "92417             1.00  \n",
       "92438             0.49  \n",
       "\n",
       "[19495 rows x 12 columns]"
      ]
     },
     "execution_count": 89,
     "metadata": {},
     "output_type": "execute_result"
    }
   ],
   "source": [
    "df_reduced"
   ]
  },
  {
   "cell_type": "code",
   "execution_count": 90,
   "metadata": {
    "id": "cFDq8-9gAACI"
   },
   "outputs": [],
   "source": [
    "X = df_reduced[ ['Product Category','Source', 'Lead NBG', 'Lead Zone', 'Month','Day','Amount in lakhs']] # Features\n",
    "y = df_reduced['Status Code']  # Target variable\n"
   ]
  },
  {
   "cell_type": "code",
   "execution_count": 91,
   "metadata": {
    "id": "U5QHxBA6AACW"
   },
   "outputs": [],
   "source": [
    "preprocessor = ColumnTransformer(\n",
    "    transformers=[\n",
    "        ('data', OneHotEncoder(), ['Product Category','Source', 'Lead NBG', 'Lead Zone'])\n",
    "    ])"
   ]
  },
  {
   "cell_type": "code",
   "execution_count": 92,
   "metadata": {
    "colab": {
     "base_uri": "https://localhost:8080/",
     "height": 74
    },
    "id": "nwJ_TV4yAACX",
    "outputId": "9accc238-f792-4ad7-b1c8-47fb479fd4aa"
   },
   "outputs": [
    {
     "data": {
      "text/html": [
       "<style>#sk-container-id-1 {color: black;background-color: white;}#sk-container-id-1 pre{padding: 0;}#sk-container-id-1 div.sk-toggleable {background-color: white;}#sk-container-id-1 label.sk-toggleable__label {cursor: pointer;display: block;width: 100%;margin-bottom: 0;padding: 0.3em;box-sizing: border-box;text-align: center;}#sk-container-id-1 label.sk-toggleable__label-arrow:before {content: \"▸\";float: left;margin-right: 0.25em;color: #696969;}#sk-container-id-1 label.sk-toggleable__label-arrow:hover:before {color: black;}#sk-container-id-1 div.sk-estimator:hover label.sk-toggleable__label-arrow:before {color: black;}#sk-container-id-1 div.sk-toggleable__content {max-height: 0;max-width: 0;overflow: hidden;text-align: left;background-color: #f0f8ff;}#sk-container-id-1 div.sk-toggleable__content pre {margin: 0.2em;color: black;border-radius: 0.25em;background-color: #f0f8ff;}#sk-container-id-1 input.sk-toggleable__control:checked~div.sk-toggleable__content {max-height: 200px;max-width: 100%;overflow: auto;}#sk-container-id-1 input.sk-toggleable__control:checked~label.sk-toggleable__label-arrow:before {content: \"▾\";}#sk-container-id-1 div.sk-estimator input.sk-toggleable__control:checked~label.sk-toggleable__label {background-color: #d4ebff;}#sk-container-id-1 div.sk-label input.sk-toggleable__control:checked~label.sk-toggleable__label {background-color: #d4ebff;}#sk-container-id-1 input.sk-hidden--visually {border: 0;clip: rect(1px 1px 1px 1px);clip: rect(1px, 1px, 1px, 1px);height: 1px;margin: -1px;overflow: hidden;padding: 0;position: absolute;width: 1px;}#sk-container-id-1 div.sk-estimator {font-family: monospace;background-color: #f0f8ff;border: 1px dotted black;border-radius: 0.25em;box-sizing: border-box;margin-bottom: 0.5em;}#sk-container-id-1 div.sk-estimator:hover {background-color: #d4ebff;}#sk-container-id-1 div.sk-parallel-item::after {content: \"\";width: 100%;border-bottom: 1px solid gray;flex-grow: 1;}#sk-container-id-1 div.sk-label:hover label.sk-toggleable__label {background-color: #d4ebff;}#sk-container-id-1 div.sk-serial::before {content: \"\";position: absolute;border-left: 1px solid gray;box-sizing: border-box;top: 0;bottom: 0;left: 50%;z-index: 0;}#sk-container-id-1 div.sk-serial {display: flex;flex-direction: column;align-items: center;background-color: white;padding-right: 0.2em;padding-left: 0.2em;position: relative;}#sk-container-id-1 div.sk-item {position: relative;z-index: 1;}#sk-container-id-1 div.sk-parallel {display: flex;align-items: stretch;justify-content: center;background-color: white;position: relative;}#sk-container-id-1 div.sk-item::before, #sk-container-id-1 div.sk-parallel-item::before {content: \"\";position: absolute;border-left: 1px solid gray;box-sizing: border-box;top: 0;bottom: 0;left: 50%;z-index: -1;}#sk-container-id-1 div.sk-parallel-item {display: flex;flex-direction: column;z-index: 1;position: relative;background-color: white;}#sk-container-id-1 div.sk-parallel-item:first-child::after {align-self: flex-end;width: 50%;}#sk-container-id-1 div.sk-parallel-item:last-child::after {align-self: flex-start;width: 50%;}#sk-container-id-1 div.sk-parallel-item:only-child::after {width: 0;}#sk-container-id-1 div.sk-dashed-wrapped {border: 1px dashed gray;margin: 0 0.4em 0.5em 0.4em;box-sizing: border-box;padding-bottom: 0.4em;background-color: white;}#sk-container-id-1 div.sk-label label {font-family: monospace;font-weight: bold;display: inline-block;line-height: 1.2em;}#sk-container-id-1 div.sk-label-container {text-align: center;}#sk-container-id-1 div.sk-container {/* jupyter's `normalize.less` sets `[hidden] { display: none; }` but bootstrap.min.css set `[hidden] { display: none !important; }` so we also need the `!important` here to be able to override the default hidden behavior on the sphinx rendered scikit-learn.org. See: https://github.com/scikit-learn/scikit-learn/issues/21755 */display: inline-block !important;position: relative;}#sk-container-id-1 div.sk-text-repr-fallback {display: none;}</style><div id=\"sk-container-id-1\" class=\"sk-top-container\"><div class=\"sk-text-repr-fallback\"><pre>LogisticRegression(max_iter=2000)</pre><b>In a Jupyter environment, please rerun this cell to show the HTML representation or trust the notebook. <br />On GitHub, the HTML representation is unable to render, please try loading this page with nbviewer.org.</b></div><div class=\"sk-container\" hidden><div class=\"sk-item\"><div class=\"sk-estimator sk-toggleable\"><input class=\"sk-toggleable__control sk-hidden--visually\" id=\"sk-estimator-id-1\" type=\"checkbox\" checked><label for=\"sk-estimator-id-1\" class=\"sk-toggleable__label sk-toggleable__label-arrow\">LogisticRegression</label><div class=\"sk-toggleable__content\"><pre>LogisticRegression(max_iter=2000)</pre></div></div></div></div></div>"
      ],
      "text/plain": [
       "LogisticRegression(max_iter=2000)"
      ]
     },
     "execution_count": 92,
     "metadata": {},
     "output_type": "execute_result"
    }
   ],
   "source": [
    "\n",
    "\n",
    "# Fit the pipeline to the data\n",
    "X_encoded=preprocessor.fit_transform(X)\n",
    "\n",
    "X_train, X_test, y_train, y_test = train_test_split(X_encoded, y, test_size=0.2, random_state=42)\n",
    "\n",
    "# Create and fit the linear regression model\n",
    "model = LogisticRegression(max_iter=2000)\n",
    "model.fit(X_train, y_train)\n",
    "\n"
   ]
  },
  {
   "cell_type": "code",
   "execution_count": 93,
   "metadata": {
    "colab": {
     "base_uri": "https://localhost:8080/"
    },
    "id": "ZTSB1idB7SrF",
    "outputId": "5dfd966f-44c9-4adb-cceb-6dcf1f9b51b6"
   },
   "outputs": [
    {
     "data": {
      "text/plain": [
       "array(['Sanctioned', 'Sanctioned', 'Sanctioned', ..., 'Sanctioned',\n",
       "       'Sanctioned', 'Sanctioned'], dtype=object)"
      ]
     },
     "execution_count": 93,
     "metadata": {},
     "output_type": "execute_result"
    }
   ],
   "source": [
    "model.predict(X_test)"
   ]
  },
  {
   "cell_type": "code",
   "execution_count": 94,
   "metadata": {
    "colab": {
     "base_uri": "https://localhost:8080/"
    },
    "id": "pR0MKY8fBMks",
    "outputId": "c5baf5e7-921a-47ca-89a6-3abe39329339"
   },
   "outputs": [
    {
     "name": "stdout",
     "output_type": "stream",
     "text": [
      "Accuracy: 0.9664016414465247\n"
     ]
    }
   ],
   "source": [
    "y_pred = model.predict(X_test)\n",
    "\n",
    "# Calculate the accuracy of the model\n",
    "accuracy = accuracy_score(y_test, y_pred)\n",
    "print(\"Accuracy:\", accuracy)"
   ]
  },
  {
   "cell_type": "markdown",
   "metadata": {
    "id": "DxwNui-eD0QJ"
   },
   "source": [
    "## we are predicting the loan status of every new customer to be either Sanctioned , Rejected or Disqualified with 96 % accuracy"
   ]
  },
  {
   "cell_type": "code",
   "execution_count": null,
   "metadata": {
    "id": "oC4DzJWmBV6O"
   },
   "outputs": [],
   "source": []
  },
  {
   "cell_type": "code",
   "execution_count": null,
   "metadata": {
    "id": "qL8ISv7OBw03"
   },
   "outputs": [],
   "source": []
  }
 ],
 "metadata": {
  "colab": {
   "provenance": []
  },
  "kernelspec": {
   "display_name": "Python 3 (ipykernel)",
   "language": "python",
   "name": "python3"
  },
  "language_info": {
   "codemirror_mode": {
    "name": "ipython",
    "version": 3
   },
   "file_extension": ".py",
   "mimetype": "text/x-python",
   "name": "python",
   "nbconvert_exporter": "python",
   "pygments_lexer": "ipython3",
   "version": "3.8.13"
  }
 },
 "nbformat": 4,
 "nbformat_minor": 1
}
